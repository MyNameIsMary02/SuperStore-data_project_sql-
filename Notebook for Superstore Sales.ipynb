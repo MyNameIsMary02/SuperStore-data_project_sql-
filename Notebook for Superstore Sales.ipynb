{
    "metadata": {
        "kernelspec": {
            "name": "SQL",
            "display_name": "SQL",
            "language": "sql"
        },
        "language_info": {
            "name": "sql",
            "version": ""
        }
    },
    "nbformat_minor": 2,
    "nbformat": 4,
    "cells": [
        {
            "cell_type": "markdown",
            "source": [
                "## **About Dataset**\n",
                "\n",
                "This [Kaggle](https://www.kaggle.com/datasets/rohitsahoo/sales-forecasting) dataset contains information about customers, shipping, inventory and sales of a global superstore in 2015-2018. Dataset is intended only for a training purpose.  In this notebook I tried to answer on the next set of questions:\n",
                "\n",
                "1. What is overall sales trend?\n",
                "2. What  is the sales figure for each states? And what is top 25 cities with the highest sales?\n",
                "3. Who are our biggest clients ( by the amount of money spent)?\n",
                "4. Which market segment contributed more into the sales ( in $, in number of order and in number of items ordered)?\n",
                "5. Which shipping method is more popular among customers? \n",
                "6.  Which products are most profitable? (list of 15). Top 10 most expensive and most cheap products. \n",
                "7. What are the sales trends in each states?"
            ],
            "metadata": {
                "language": "sql",
                "azdata_cell_guid": "34b3f17a-9675-4c32-b61f-646e78935b96"
            },
            "attachments": {}
        },
        {
            "cell_type": "markdown",
            "source": [
                "The anlysis was performed in Azure Data Studio. So let import the data and explore it"
            ],
            "metadata": {
                "language": "sql",
                "azdata_cell_guid": "d4ac29d1-e37d-438d-8027-5ac87d28646e"
            },
            "attachments": {}
        },
        {
            "cell_type": "code",
            "source": [
                "SELECT TOP 10 *\n",
                "FROM dbo.train"
            ],
            "metadata": {
                "tags": [],
                "azdata_cell_guid": "595ccef7-9744-4a47-b116-56d0de43bca7",
                "language": "sql"
            },
            "outputs": [
                {
                    "output_type": "display_data",
                    "data": {
                        "text/html": "(10 rows affected)"
                    },
                    "metadata": {}
                },
                {
                    "output_type": "display_data",
                    "data": {
                        "text/html": "Total execution time: 00:00:00.006"
                    },
                    "metadata": {}
                },
                {
                    "output_type": "execute_result",
                    "execution_count": 7,
                    "data": {
                        "application/vnd.dataresource+json": {
                            "schema": {
                                "fields": [
                                    {
                                        "name": "Row_ID"
                                    },
                                    {
                                        "name": "Order_ID"
                                    },
                                    {
                                        "name": "Order_Date"
                                    },
                                    {
                                        "name": "Ship_Date"
                                    },
                                    {
                                        "name": "Ship_Mode"
                                    },
                                    {
                                        "name": "Customer_ID"
                                    },
                                    {
                                        "name": "Customer_Name"
                                    },
                                    {
                                        "name": "Segment"
                                    },
                                    {
                                        "name": "Country"
                                    },
                                    {
                                        "name": "City"
                                    },
                                    {
                                        "name": "State"
                                    },
                                    {
                                        "name": "Postal_Code"
                                    },
                                    {
                                        "name": "Region"
                                    },
                                    {
                                        "name": "Product_ID"
                                    },
                                    {
                                        "name": "Category"
                                    },
                                    {
                                        "name": "Sub_Category"
                                    },
                                    {
                                        "name": "Product_Name"
                                    },
                                    {
                                        "name": "Sales"
                                    }
                                ]
                            },
                            "data": [
                                {
                                    "0": "1",
                                    "1": "CA-2017-152156",
                                    "2": "2017-11-08",
                                    "3": "2017-11-11",
                                    "4": "Second Class",
                                    "5": "CG-12520",
                                    "6": "Claire Gute",
                                    "7": "Consumer",
                                    "8": "United States",
                                    "9": "Henderson",
                                    "10": "Kentucky",
                                    "11": "42420",
                                    "12": "South",
                                    "13": "FUR-BO-10001798",
                                    "14": "Furniture",
                                    "15": "Bookcases",
                                    "16": "Bush Somerset Collection Bookcase",
                                    "17": "261.9599914550781"
                                },
                                {
                                    "0": "2",
                                    "1": "CA-2017-152156",
                                    "2": "2017-11-08",
                                    "3": "2017-11-11",
                                    "4": "Second Class",
                                    "5": "CG-12520",
                                    "6": "Claire Gute",
                                    "7": "Consumer",
                                    "8": "United States",
                                    "9": "Henderson",
                                    "10": "Kentucky",
                                    "11": "42420",
                                    "12": "South",
                                    "13": "FUR-CH-10000454",
                                    "14": "Furniture",
                                    "15": "Chairs",
                                    "16": "Hon Deluxe Fabric Upholstered Stacking Chairs, Rounded Back",
                                    "17": "731.9400024414062"
                                },
                                {
                                    "0": "3",
                                    "1": "CA-2017-138688",
                                    "2": "2017-06-12",
                                    "3": "2017-06-16",
                                    "4": "Second Class",
                                    "5": "DV-13045",
                                    "6": "Darrin Van Huff",
                                    "7": "Corporate",
                                    "8": "United States",
                                    "9": "Los Angeles",
                                    "10": "California",
                                    "11": "90036",
                                    "12": "West",
                                    "13": "OFF-LA-10000240",
                                    "14": "Office Supplies",
                                    "15": "Labels",
                                    "16": "Self-Adhesive Address Labels for Typewriters by Universal",
                                    "17": "14.619999885559082"
                                },
                                {
                                    "0": "4",
                                    "1": "US-2016-108966",
                                    "2": "2016-10-11",
                                    "3": "2016-10-18",
                                    "4": "Standard Class",
                                    "5": "SO-20335",
                                    "6": "Sean O'Donnell",
                                    "7": "Consumer",
                                    "8": "United States",
                                    "9": "Fort Lauderdale",
                                    "10": "Florida",
                                    "11": "33311",
                                    "12": "South",
                                    "13": "FUR-TA-10000577",
                                    "14": "Furniture",
                                    "15": "Tables",
                                    "16": "Bretford CR4500 Series Slim Rectangular Table",
                                    "17": "957.5775146484375"
                                },
                                {
                                    "0": "5",
                                    "1": "US-2016-108966",
                                    "2": "2016-10-11",
                                    "3": "2016-10-18",
                                    "4": "Standard Class",
                                    "5": "SO-20335",
                                    "6": "Sean O'Donnell",
                                    "7": "Consumer",
                                    "8": "United States",
                                    "9": "Fort Lauderdale",
                                    "10": "Florida",
                                    "11": "33311",
                                    "12": "South",
                                    "13": "OFF-ST-10000760",
                                    "14": "Office Supplies",
                                    "15": "Storage",
                                    "16": "Eldon Fold 'N Roll Cart System",
                                    "17": "22.368000030517578"
                                },
                                {
                                    "0": "6",
                                    "1": "CA-2015-115812",
                                    "2": "2015-06-09",
                                    "3": "2015-06-14",
                                    "4": "Standard Class",
                                    "5": "BH-11710",
                                    "6": "Brosina Hoffman",
                                    "7": "Consumer",
                                    "8": "United States",
                                    "9": "Los Angeles",
                                    "10": "California",
                                    "11": "90032",
                                    "12": "West",
                                    "13": "FUR-FU-10001487",
                                    "14": "Furniture",
                                    "15": "Furnishings",
                                    "16": "Eldon Expressions Wood and Plastic Desk Accessories, Cherry Wood",
                                    "17": "48.86000061035156"
                                },
                                {
                                    "0": "7",
                                    "1": "CA-2015-115812",
                                    "2": "2015-06-09",
                                    "3": "2015-06-14",
                                    "4": "Standard Class",
                                    "5": "BH-11710",
                                    "6": "Brosina Hoffman",
                                    "7": "Consumer",
                                    "8": "United States",
                                    "9": "Los Angeles",
                                    "10": "California",
                                    "11": "90032",
                                    "12": "West",
                                    "13": "OFF-AR-10002833",
                                    "14": "Office Supplies",
                                    "15": "Art",
                                    "16": "Newell 322",
                                    "17": "7.28000020980835"
                                },
                                {
                                    "0": "8",
                                    "1": "CA-2015-115812",
                                    "2": "2015-06-09",
                                    "3": "2015-06-14",
                                    "4": "Standard Class",
                                    "5": "BH-11710",
                                    "6": "Brosina Hoffman",
                                    "7": "Consumer",
                                    "8": "United States",
                                    "9": "Los Angeles",
                                    "10": "California",
                                    "11": "90032",
                                    "12": "West",
                                    "13": "TEC-PH-10002275",
                                    "14": "Technology",
                                    "15": "Phones",
                                    "16": "Mitel 5320 IP Phone VoIP phone",
                                    "17": "907.1519775390625"
                                },
                                {
                                    "0": "9",
                                    "1": "CA-2015-115812",
                                    "2": "2015-06-09",
                                    "3": "2015-06-14",
                                    "4": "Standard Class",
                                    "5": "BH-11710",
                                    "6": "Brosina Hoffman",
                                    "7": "Consumer",
                                    "8": "United States",
                                    "9": "Los Angeles",
                                    "10": "California",
                                    "11": "90032",
                                    "12": "West",
                                    "13": "OFF-BI-10003910",
                                    "14": "Office Supplies",
                                    "15": "Binders",
                                    "16": "DXL Angle-View Binders with Locking Rings by Samsill",
                                    "17": "18.503999710083008"
                                },
                                {
                                    "0": "10",
                                    "1": "CA-2015-115812",
                                    "2": "2015-06-09",
                                    "3": "2015-06-14",
                                    "4": "Standard Class",
                                    "5": "BH-11710",
                                    "6": "Brosina Hoffman",
                                    "7": "Consumer",
                                    "8": "United States",
                                    "9": "Los Angeles",
                                    "10": "California",
                                    "11": "90032",
                                    "12": "West",
                                    "13": "OFF-AP-10002892",
                                    "14": "Office Supplies",
                                    "15": "Appliances",
                                    "16": "Belkin F5C206VTEL 6 Outlet Surge",
                                    "17": "114.9000015258789"
                                }
                            ]
                        },
                        "text/html": "<table><tr><th>Row_ID</th><th>Order_ID</th><th>Order_Date</th><th>Ship_Date</th><th>Ship_Mode</th><th>Customer_ID</th><th>Customer_Name</th><th>Segment</th><th>Country</th><th>City</th><th>State</th><th>Postal_Code</th><th>Region</th><th>Product_ID</th><th>Category</th><th>Sub_Category</th><th>Product_Name</th><th>Sales</th></tr><tr><td>1</td><td>CA-2017-152156</td><td>2017-11-08</td><td>2017-11-11</td><td>Second Class</td><td>CG-12520</td><td>Claire Gute</td><td>Consumer</td><td>United States</td><td>Henderson</td><td>Kentucky</td><td>42420</td><td>South</td><td>FUR-BO-10001798</td><td>Furniture</td><td>Bookcases</td><td>Bush Somerset Collection Bookcase</td><td>261.9599914550781</td></tr><tr><td>2</td><td>CA-2017-152156</td><td>2017-11-08</td><td>2017-11-11</td><td>Second Class</td><td>CG-12520</td><td>Claire Gute</td><td>Consumer</td><td>United States</td><td>Henderson</td><td>Kentucky</td><td>42420</td><td>South</td><td>FUR-CH-10000454</td><td>Furniture</td><td>Chairs</td><td>Hon Deluxe Fabric Upholstered Stacking Chairs, Rounded Back</td><td>731.9400024414062</td></tr><tr><td>3</td><td>CA-2017-138688</td><td>2017-06-12</td><td>2017-06-16</td><td>Second Class</td><td>DV-13045</td><td>Darrin Van Huff</td><td>Corporate</td><td>United States</td><td>Los Angeles</td><td>California</td><td>90036</td><td>West</td><td>OFF-LA-10000240</td><td>Office Supplies</td><td>Labels</td><td>Self-Adhesive Address Labels for Typewriters by Universal</td><td>14.619999885559082</td></tr><tr><td>4</td><td>US-2016-108966</td><td>2016-10-11</td><td>2016-10-18</td><td>Standard Class</td><td>SO-20335</td><td>Sean O'Donnell</td><td>Consumer</td><td>United States</td><td>Fort Lauderdale</td><td>Florida</td><td>33311</td><td>South</td><td>FUR-TA-10000577</td><td>Furniture</td><td>Tables</td><td>Bretford CR4500 Series Slim Rectangular Table</td><td>957.5775146484375</td></tr><tr><td>5</td><td>US-2016-108966</td><td>2016-10-11</td><td>2016-10-18</td><td>Standard Class</td><td>SO-20335</td><td>Sean O'Donnell</td><td>Consumer</td><td>United States</td><td>Fort Lauderdale</td><td>Florida</td><td>33311</td><td>South</td><td>OFF-ST-10000760</td><td>Office Supplies</td><td>Storage</td><td>Eldon Fold 'N Roll Cart System</td><td>22.368000030517578</td></tr><tr><td>6</td><td>CA-2015-115812</td><td>2015-06-09</td><td>2015-06-14</td><td>Standard Class</td><td>BH-11710</td><td>Brosina Hoffman</td><td>Consumer</td><td>United States</td><td>Los Angeles</td><td>California</td><td>90032</td><td>West</td><td>FUR-FU-10001487</td><td>Furniture</td><td>Furnishings</td><td>Eldon Expressions Wood and Plastic Desk Accessories, Cherry Wood</td><td>48.86000061035156</td></tr><tr><td>7</td><td>CA-2015-115812</td><td>2015-06-09</td><td>2015-06-14</td><td>Standard Class</td><td>BH-11710</td><td>Brosina Hoffman</td><td>Consumer</td><td>United States</td><td>Los Angeles</td><td>California</td><td>90032</td><td>West</td><td>OFF-AR-10002833</td><td>Office Supplies</td><td>Art</td><td>Newell 322</td><td>7.28000020980835</td></tr><tr><td>8</td><td>CA-2015-115812</td><td>2015-06-09</td><td>2015-06-14</td><td>Standard Class</td><td>BH-11710</td><td>Brosina Hoffman</td><td>Consumer</td><td>United States</td><td>Los Angeles</td><td>California</td><td>90032</td><td>West</td><td>TEC-PH-10002275</td><td>Technology</td><td>Phones</td><td>Mitel 5320 IP Phone VoIP phone</td><td>907.1519775390625</td></tr><tr><td>9</td><td>CA-2015-115812</td><td>2015-06-09</td><td>2015-06-14</td><td>Standard Class</td><td>BH-11710</td><td>Brosina Hoffman</td><td>Consumer</td><td>United States</td><td>Los Angeles</td><td>California</td><td>90032</td><td>West</td><td>OFF-BI-10003910</td><td>Office Supplies</td><td>Binders</td><td>DXL Angle-View Binders with Locking Rings by Samsill</td><td>18.503999710083008</td></tr><tr><td>10</td><td>CA-2015-115812</td><td>2015-06-09</td><td>2015-06-14</td><td>Standard Class</td><td>BH-11710</td><td>Brosina Hoffman</td><td>Consumer</td><td>United States</td><td>Los Angeles</td><td>California</td><td>90032</td><td>West</td><td>OFF-AP-10002892</td><td>Office Supplies</td><td>Appliances</td><td>Belkin F5C206VTEL 6 Outlet Surge</td><td>114.9000015258789</td></tr></table>"
                    },
                    "metadata": {}
                }
            ],
            "execution_count": 7
        },
        {
            "cell_type": "markdown",
            "source": [
                ",Dataset consist of total 9800 rows and 18 columns, data is easy to understand and the names of the columns are self-explonatory. During the process of importing the data, I found out that Postal\\_Code column contains a NULL values, so let find these records."
            ],
            "metadata": {
                "azdata_cell_guid": "f469efd4-f83e-4b04-9892-71f468290d6f"
            },
            "attachments": {}
        },
        {
            "cell_type": "code",
            "source": [
                "SELECT * \r\n",
                "FROM dbo.train\r\n",
                "WHERE\r\n",
                "Postal_Code IS NULL"
            ],
            "metadata": {
                "azdata_cell_guid": "a1130011-5892-4da5-a572-07d130b52c25",
                "language": "sql"
            },
            "outputs": [
                {
                    "output_type": "display_data",
                    "data": {
                        "text/html": "(11 rows affected)"
                    },
                    "metadata": {}
                },
                {
                    "output_type": "display_data",
                    "data": {
                        "text/html": "Total execution time: 00:00:00.043"
                    },
                    "metadata": {}
                },
                {
                    "output_type": "execute_result",
                    "execution_count": 7,
                    "data": {
                        "application/vnd.dataresource+json": {
                            "schema": {
                                "fields": [
                                    {
                                        "name": "Row_ID"
                                    },
                                    {
                                        "name": "Order_ID"
                                    },
                                    {
                                        "name": "Order_Date"
                                    },
                                    {
                                        "name": "Ship_Date"
                                    },
                                    {
                                        "name": "Ship_Mode"
                                    },
                                    {
                                        "name": "Customer_ID"
                                    },
                                    {
                                        "name": "Customer_Name"
                                    },
                                    {
                                        "name": "Segment"
                                    },
                                    {
                                        "name": "Country"
                                    },
                                    {
                                        "name": "City"
                                    },
                                    {
                                        "name": "State"
                                    },
                                    {
                                        "name": "Postal_Code"
                                    },
                                    {
                                        "name": "Region"
                                    },
                                    {
                                        "name": "Product_ID"
                                    },
                                    {
                                        "name": "Category"
                                    },
                                    {
                                        "name": "Sub_Category"
                                    },
                                    {
                                        "name": "Product_Name"
                                    },
                                    {
                                        "name": "Sales"
                                    }
                                ]
                            },
                            "data": [
                                {
                                    "0": "2235",
                                    "1": "CA-2018-104066",
                                    "2": "2018-12-05",
                                    "3": "2018-12-10",
                                    "4": "Standard Class",
                                    "5": "QJ-19255",
                                    "6": "Quincy Jones",
                                    "7": "Corporate",
                                    "8": "United States",
                                    "9": "Burlington",
                                    "10": "Vermont",
                                    "11": "NULL",
                                    "12": "East",
                                    "13": "TEC-AC-10001013",
                                    "14": "Technology",
                                    "15": "Accessories",
                                    "16": "Logitech ClearChat Comfort/USB Headset H390",
                                    "17": "205.02999877929688"
                                },
                                {
                                    "0": "5275",
                                    "1": "CA-2016-162887",
                                    "2": "2016-11-07",
                                    "3": "2016-11-09",
                                    "4": "Second Class",
                                    "5": "SV-20785",
                                    "6": "Stewart Visinsky",
                                    "7": "Consumer",
                                    "8": "United States",
                                    "9": "Burlington",
                                    "10": "Vermont",
                                    "11": "NULL",
                                    "12": "East",
                                    "13": "FUR-CH-10000595",
                                    "14": "Furniture",
                                    "15": "Chairs",
                                    "16": "Safco Contoured Stacking Chairs",
                                    "17": "715.2000122070312"
                                },
                                {
                                    "0": "8799",
                                    "1": "US-2017-150140",
                                    "2": "2017-04-06",
                                    "3": "2017-04-10",
                                    "4": "Standard Class",
                                    "5": "VM-21685",
                                    "6": "Valerie Mitchum",
                                    "7": "Home Office",
                                    "8": "United States",
                                    "9": "Burlington",
                                    "10": "Vermont",
                                    "11": "NULL",
                                    "12": "East",
                                    "13": "TEC-PH-10002555",
                                    "14": "Technology",
                                    "15": "Phones",
                                    "16": "Nortel Meridian M5316 Digital phone",
                                    "17": "1294.75"
                                },
                                {
                                    "0": "9147",
                                    "1": "US-2017-165505",
                                    "2": "2017-01-23",
                                    "3": "2017-01-27",
                                    "4": "Standard Class",
                                    "5": "CB-12535",
                                    "6": "Claudia Bergmann",
                                    "7": "Corporate",
                                    "8": "United States",
                                    "9": "Burlington",
                                    "10": "Vermont",
                                    "11": "NULL",
                                    "12": "East",
                                    "13": "TEC-AC-10002926",
                                    "14": "Technology",
                                    "15": "Accessories",
                                    "16": "Logitech Wireless Marathon Mouse M705",
                                    "17": "99.9800033569336"
                                },
                                {
                                    "0": "9148",
                                    "1": "US-2017-165505",
                                    "2": "2017-01-23",
                                    "3": "2017-01-27",
                                    "4": "Standard Class",
                                    "5": "CB-12535",
                                    "6": "Claudia Bergmann",
                                    "7": "Corporate",
                                    "8": "United States",
                                    "9": "Burlington",
                                    "10": "Vermont",
                                    "11": "NULL",
                                    "12": "East",
                                    "13": "OFF-AR-10003477",
                                    "14": "Office Supplies",
                                    "15": "Art",
                                    "16": "4009 Highlighters",
                                    "17": "8.039999961853027"
                                },
                                {
                                    "0": "9149",
                                    "1": "US-2017-165505",
                                    "2": "2017-01-23",
                                    "3": "2017-01-27",
                                    "4": "Standard Class",
                                    "5": "CB-12535",
                                    "6": "Claudia Bergmann",
                                    "7": "Corporate",
                                    "8": "United States",
                                    "9": "Burlington",
                                    "10": "Vermont",
                                    "11": "NULL",
                                    "12": "East",
                                    "13": "OFF-ST-10001526",
                                    "14": "Office Supplies",
                                    "15": "Storage",
                                    "16": "Iceberg Mobile Mega Data/Printer Cart",
                                    "17": "1564.2900390625"
                                },
                                {
                                    "0": "9387",
                                    "1": "US-2018-127292",
                                    "2": "2018-01-19",
                                    "3": "2018-01-23",
                                    "4": "Standard Class",
                                    "5": "RM-19375",
                                    "6": "Raymond Messe",
                                    "7": "Consumer",
                                    "8": "United States",
                                    "9": "Burlington",
                                    "10": "Vermont",
                                    "11": "NULL",
                                    "12": "East",
                                    "13": "OFF-PA-10000157",
                                    "14": "Office Supplies",
                                    "15": "Paper",
                                    "16": "Xerox 191",
                                    "17": "79.91999816894531"
                                },
                                {
                                    "0": "9388",
                                    "1": "US-2018-127292",
                                    "2": "2018-01-19",
                                    "3": "2018-01-23",
                                    "4": "Standard Class",
                                    "5": "RM-19375",
                                    "6": "Raymond Messe",
                                    "7": "Consumer",
                                    "8": "United States",
                                    "9": "Burlington",
                                    "10": "Vermont",
                                    "11": "NULL",
                                    "12": "East",
                                    "13": "OFF-PA-10001970",
                                    "14": "Office Supplies",
                                    "15": "Paper",
                                    "16": "Xerox 1881",
                                    "17": "12.279999732971191"
                                },
                                {
                                    "0": "9389",
                                    "1": "US-2018-127292",
                                    "2": "2018-01-19",
                                    "3": "2018-01-23",
                                    "4": "Standard Class",
                                    "5": "RM-19375",
                                    "6": "Raymond Messe",
                                    "7": "Consumer",
                                    "8": "United States",
                                    "9": "Burlington",
                                    "10": "Vermont",
                                    "11": "NULL",
                                    "12": "East",
                                    "13": "OFF-AP-10000828",
                                    "14": "Office Supplies",
                                    "15": "Appliances",
                                    "16": "Avanti 4.4 Cu. Ft. Refrigerator",
                                    "17": "542.9400024414062"
                                },
                                {
                                    "0": "9390",
                                    "1": "US-2018-127292",
                                    "2": "2018-01-19",
                                    "3": "2018-01-23",
                                    "4": "Standard Class",
                                    "5": "RM-19375",
                                    "6": "Raymond Messe",
                                    "7": "Consumer",
                                    "8": "United States",
                                    "9": "Burlington",
                                    "10": "Vermont",
                                    "11": "NULL",
                                    "12": "East",
                                    "13": "OFF-EN-10001509",
                                    "14": "Office Supplies",
                                    "15": "Envelopes",
                                    "16": "Poly String Tie Envelopes",
                                    "17": "2.0399999618530273"
                                },
                                {
                                    "0": "9742",
                                    "1": "CA-2016-117086",
                                    "2": "2016-11-08",
                                    "3": "2016-11-12",
                                    "4": "Standard Class",
                                    "5": "QJ-19255",
                                    "6": "Quincy Jones",
                                    "7": "Corporate",
                                    "8": "United States",
                                    "9": "Burlington",
                                    "10": "Vermont",
                                    "11": "NULL",
                                    "12": "East",
                                    "13": "FUR-BO-10004834",
                                    "14": "Furniture",
                                    "15": "Bookcases",
                                    "16": "Riverside Palais Royal Lawyers Bookcase, Royale Cherry Finish",
                                    "17": "4404.89990234375"
                                }
                            ]
                        },
                        "text/html": "<table><tr><th>Row_ID</th><th>Order_ID</th><th>Order_Date</th><th>Ship_Date</th><th>Ship_Mode</th><th>Customer_ID</th><th>Customer_Name</th><th>Segment</th><th>Country</th><th>City</th><th>State</th><th>Postal_Code</th><th>Region</th><th>Product_ID</th><th>Category</th><th>Sub_Category</th><th>Product_Name</th><th>Sales</th></tr><tr><td>2235</td><td>CA-2018-104066</td><td>2018-12-05</td><td>2018-12-10</td><td>Standard Class</td><td>QJ-19255</td><td>Quincy Jones</td><td>Corporate</td><td>United States</td><td>Burlington</td><td>Vermont</td><td>NULL</td><td>East</td><td>TEC-AC-10001013</td><td>Technology</td><td>Accessories</td><td>Logitech ClearChat Comfort/USB Headset H390</td><td>205.02999877929688</td></tr><tr><td>5275</td><td>CA-2016-162887</td><td>2016-11-07</td><td>2016-11-09</td><td>Second Class</td><td>SV-20785</td><td>Stewart Visinsky</td><td>Consumer</td><td>United States</td><td>Burlington</td><td>Vermont</td><td>NULL</td><td>East</td><td>FUR-CH-10000595</td><td>Furniture</td><td>Chairs</td><td>Safco Contoured Stacking Chairs</td><td>715.2000122070312</td></tr><tr><td>8799</td><td>US-2017-150140</td><td>2017-04-06</td><td>2017-04-10</td><td>Standard Class</td><td>VM-21685</td><td>Valerie Mitchum</td><td>Home Office</td><td>United States</td><td>Burlington</td><td>Vermont</td><td>NULL</td><td>East</td><td>TEC-PH-10002555</td><td>Technology</td><td>Phones</td><td>Nortel Meridian M5316 Digital phone</td><td>1294.75</td></tr><tr><td>9147</td><td>US-2017-165505</td><td>2017-01-23</td><td>2017-01-27</td><td>Standard Class</td><td>CB-12535</td><td>Claudia Bergmann</td><td>Corporate</td><td>United States</td><td>Burlington</td><td>Vermont</td><td>NULL</td><td>East</td><td>TEC-AC-10002926</td><td>Technology</td><td>Accessories</td><td>Logitech Wireless Marathon Mouse M705</td><td>99.9800033569336</td></tr><tr><td>9148</td><td>US-2017-165505</td><td>2017-01-23</td><td>2017-01-27</td><td>Standard Class</td><td>CB-12535</td><td>Claudia Bergmann</td><td>Corporate</td><td>United States</td><td>Burlington</td><td>Vermont</td><td>NULL</td><td>East</td><td>OFF-AR-10003477</td><td>Office Supplies</td><td>Art</td><td>4009 Highlighters</td><td>8.039999961853027</td></tr><tr><td>9149</td><td>US-2017-165505</td><td>2017-01-23</td><td>2017-01-27</td><td>Standard Class</td><td>CB-12535</td><td>Claudia Bergmann</td><td>Corporate</td><td>United States</td><td>Burlington</td><td>Vermont</td><td>NULL</td><td>East</td><td>OFF-ST-10001526</td><td>Office Supplies</td><td>Storage</td><td>Iceberg Mobile Mega Data/Printer Cart</td><td>1564.2900390625</td></tr><tr><td>9387</td><td>US-2018-127292</td><td>2018-01-19</td><td>2018-01-23</td><td>Standard Class</td><td>RM-19375</td><td>Raymond Messe</td><td>Consumer</td><td>United States</td><td>Burlington</td><td>Vermont</td><td>NULL</td><td>East</td><td>OFF-PA-10000157</td><td>Office Supplies</td><td>Paper</td><td>Xerox 191</td><td>79.91999816894531</td></tr><tr><td>9388</td><td>US-2018-127292</td><td>2018-01-19</td><td>2018-01-23</td><td>Standard Class</td><td>RM-19375</td><td>Raymond Messe</td><td>Consumer</td><td>United States</td><td>Burlington</td><td>Vermont</td><td>NULL</td><td>East</td><td>OFF-PA-10001970</td><td>Office Supplies</td><td>Paper</td><td>Xerox 1881</td><td>12.279999732971191</td></tr><tr><td>9389</td><td>US-2018-127292</td><td>2018-01-19</td><td>2018-01-23</td><td>Standard Class</td><td>RM-19375</td><td>Raymond Messe</td><td>Consumer</td><td>United States</td><td>Burlington</td><td>Vermont</td><td>NULL</td><td>East</td><td>OFF-AP-10000828</td><td>Office Supplies</td><td>Appliances</td><td>Avanti 4.4 Cu. Ft. Refrigerator</td><td>542.9400024414062</td></tr><tr><td>9390</td><td>US-2018-127292</td><td>2018-01-19</td><td>2018-01-23</td><td>Standard Class</td><td>RM-19375</td><td>Raymond Messe</td><td>Consumer</td><td>United States</td><td>Burlington</td><td>Vermont</td><td>NULL</td><td>East</td><td>OFF-EN-10001509</td><td>Office Supplies</td><td>Envelopes</td><td>Poly String Tie Envelopes</td><td>2.0399999618530273</td></tr><tr><td>9742</td><td>CA-2016-117086</td><td>2016-11-08</td><td>2016-11-12</td><td>Standard Class</td><td>QJ-19255</td><td>Quincy Jones</td><td>Corporate</td><td>United States</td><td>Burlington</td><td>Vermont</td><td>NULL</td><td>East</td><td>FUR-BO-10004834</td><td>Furniture</td><td>Bookcases</td><td>Riverside Palais Royal Lawyers Bookcase, Royale Cherry Finish</td><td>4404.89990234375</td></tr></table>"
                    },
                    "metadata": {}
                }
            ],
            "execution_count": 7
        },
        {
            "cell_type": "markdown",
            "source": [
                "There are 11 records with NULL values, all of them are from Burlington, Vermont. Burlington has 5 different zip codes so, unfortunately, without exact address  I can't update these fields. \n",
                "\n",
                "Let dig dipper and gather some additional info about dataset."
            ],
            "metadata": {
                "azdata_cell_guid": "57a903e9-10bc-4edd-b060-48b08ad115b7"
            },
            "attachments": {}
        },
        {
            "cell_type": "code",
            "source": [
                "SELECT\r\n",
                "COUNT(DISTINCT Order_ID) AS number_of_order,\r\n",
                "COUNT(DISTINCT Customer_ID) AS total_customer,\r\n",
                "COUNT(DISTINCT State) AS number_of_states,\r\n",
                "COUNT(DISTINCT City) AS number_of_city,\r\n",
                "COUNT(DISTINCT Postal_Code)AS  number_of_zipcode\r\n",
                "FROM\r\n",
                "dbo.train"
            ],
            "metadata": {
                "azdata_cell_guid": "602142f0-ced4-46fe-92a2-16ca6c85a9a1",
                "language": "sql"
            },
            "outputs": [
                {
                    "output_type": "display_data",
                    "data": {
                        "text/html": "Warning: Null value is eliminated by an aggregate or other SET operation."
                    },
                    "metadata": {}
                },
                {
                    "output_type": "display_data",
                    "data": {
                        "text/html": "(1 row affected)"
                    },
                    "metadata": {}
                },
                {
                    "output_type": "display_data",
                    "data": {
                        "text/html": "Total execution time: 00:00:00.155"
                    },
                    "metadata": {}
                },
                {
                    "output_type": "execute_result",
                    "execution_count": 1,
                    "data": {
                        "application/vnd.dataresource+json": {
                            "schema": {
                                "fields": [
                                    {
                                        "name": "number_of_order"
                                    },
                                    {
                                        "name": "total_customer"
                                    },
                                    {
                                        "name": "number_of_states"
                                    },
                                    {
                                        "name": "number_of_city"
                                    },
                                    {
                                        "name": "number_of_zipcode"
                                    }
                                ]
                            },
                            "data": [
                                {
                                    "0": "4922",
                                    "1": "793",
                                    "2": "49",
                                    "3": "529",
                                    "4": "626"
                                }
                            ]
                        },
                        "text/html": "<table><tr><th>number_of_order</th><th>total_customer</th><th>number_of_states</th><th>number_of_city</th><th>number_of_zipcode</th></tr><tr><td>4922</td><td>793</td><td>49</td><td>529</td><td>626</td></tr></table>"
                    },
                    "metadata": {}
                }
            ],
            "execution_count": 1
        },
        {
            "cell_type": "markdown",
            "source": [
                "So, I find out that there were  almost 5000 orders in 4 years, around 800 customers from almost all over the US.  Run additional queries and and get more informations."
            ],
            "metadata": {
                "azdata_cell_guid": "afcd78eb-1a12-4d89-92c8-06cf4d7b9259"
            },
            "attachments": {}
        },
        {
            "cell_type": "code",
            "source": [
                "SELECT\r\n",
                "Distinct Country\r\n",
                "FROM dbo.train\r\n",
                "\r\n",
                "SELECT\r\n",
                "Distinct Category\r\n",
                "FROM dbo.train\r\n",
                "\r\n",
                "SELECT\r\n",
                "Distinct Sub_Category\r\n",
                "FROM dbo.train\r\n",
                "\r\n",
                "SELECT\r\n",
                "Distinct Ship_Mode\r\n",
                "FROM dbo.train\r\n",
                "\r\n",
                "SELECT\r\n",
                "Distinct Region\r\n",
                "FROM dbo.train\r\n",
                "\r\n",
                "SELECT\r\n",
                "Distinct Segment\r\n",
                "FROM dbo.train\r\n",
                "\r\n",
                "SELECT\r\n",
                "avg(DATEDIFF(day, Order_Date, Ship_Date)) AS avg_fulfillment_time\r\n",
                "FROM dbo.train"
            ],
            "metadata": {
                "azdata_cell_guid": "0715be34-ea8e-4f9c-85d2-d73d3cbf9d18",
                "language": "sql"
            },
            "outputs": [
                {
                    "output_type": "display_data",
                    "data": {
                        "text/html": "(1 row affected)"
                    },
                    "metadata": {}
                },
                {
                    "output_type": "display_data",
                    "data": {
                        "text/html": "(3 rows affected)"
                    },
                    "metadata": {}
                },
                {
                    "output_type": "display_data",
                    "data": {
                        "text/html": "(17 rows affected)"
                    },
                    "metadata": {}
                },
                {
                    "output_type": "display_data",
                    "data": {
                        "text/html": "(4 rows affected)"
                    },
                    "metadata": {}
                },
                {
                    "output_type": "display_data",
                    "data": {
                        "text/html": "(4 rows affected)"
                    },
                    "metadata": {}
                },
                {
                    "output_type": "display_data",
                    "data": {
                        "text/html": "(3 rows affected)"
                    },
                    "metadata": {}
                },
                {
                    "output_type": "display_data",
                    "data": {
                        "text/html": "(1 row affected)"
                    },
                    "metadata": {}
                },
                {
                    "output_type": "display_data",
                    "data": {
                        "text/html": "Total execution time: 00:00:00.301"
                    },
                    "metadata": {}
                },
                {
                    "output_type": "execute_result",
                    "execution_count": 2,
                    "data": {
                        "application/vnd.dataresource+json": {
                            "schema": {
                                "fields": [
                                    {
                                        "name": "Country"
                                    }
                                ]
                            },
                            "data": [
                                {
                                    "0": "United States"
                                }
                            ]
                        },
                        "text/html": "<table><tr><th>Country</th></tr><tr><td>United States</td></tr></table>"
                    },
                    "metadata": {}
                },
                {
                    "output_type": "execute_result",
                    "execution_count": 2,
                    "data": {
                        "application/vnd.dataresource+json": {
                            "schema": {
                                "fields": [
                                    {
                                        "name": "Category"
                                    }
                                ]
                            },
                            "data": [
                                {
                                    "0": "Office Supplies"
                                },
                                {
                                    "0": "Furniture"
                                },
                                {
                                    "0": "Technology"
                                }
                            ]
                        },
                        "text/html": "<table><tr><th>Category</th></tr><tr><td>Office Supplies</td></tr><tr><td>Furniture</td></tr><tr><td>Technology</td></tr></table>"
                    },
                    "metadata": {}
                },
                {
                    "output_type": "execute_result",
                    "execution_count": 2,
                    "data": {
                        "application/vnd.dataresource+json": {
                            "schema": {
                                "fields": [
                                    {
                                        "name": "Sub_Category"
                                    }
                                ]
                            },
                            "data": [
                                {
                                    "0": "Supplies"
                                },
                                {
                                    "0": "Storage"
                                },
                                {
                                    "0": "Phones"
                                },
                                {
                                    "0": "Fasteners"
                                },
                                {
                                    "0": "Copiers"
                                },
                                {
                                    "0": "Chairs"
                                },
                                {
                                    "0": "Bookcases"
                                },
                                {
                                    "0": "Machines"
                                },
                                {
                                    "0": "Art"
                                },
                                {
                                    "0": "Envelopes"
                                },
                                {
                                    "0": "Binders"
                                },
                                {
                                    "0": "Labels"
                                },
                                {
                                    "0": "Furnishings"
                                },
                                {
                                    "0": "Accessories"
                                },
                                {
                                    "0": "Appliances"
                                },
                                {
                                    "0": "Paper"
                                },
                                {
                                    "0": "Tables"
                                }
                            ]
                        },
                        "text/html": "<table><tr><th>Sub_Category</th></tr><tr><td>Supplies</td></tr><tr><td>Storage</td></tr><tr><td>Phones</td></tr><tr><td>Fasteners</td></tr><tr><td>Copiers</td></tr><tr><td>Chairs</td></tr><tr><td>Bookcases</td></tr><tr><td>Machines</td></tr><tr><td>Art</td></tr><tr><td>Envelopes</td></tr><tr><td>Binders</td></tr><tr><td>Labels</td></tr><tr><td>Furnishings</td></tr><tr><td>Accessories</td></tr><tr><td>Appliances</td></tr><tr><td>Paper</td></tr><tr><td>Tables</td></tr></table>"
                    },
                    "metadata": {}
                },
                {
                    "output_type": "execute_result",
                    "execution_count": 2,
                    "data": {
                        "application/vnd.dataresource+json": {
                            "schema": {
                                "fields": [
                                    {
                                        "name": "Ship_Mode"
                                    }
                                ]
                            },
                            "data": [
                                {
                                    "0": "First Class"
                                },
                                {
                                    "0": "Same Day"
                                },
                                {
                                    "0": "Standard Class"
                                },
                                {
                                    "0": "Second Class"
                                }
                            ]
                        },
                        "text/html": "<table><tr><th>Ship_Mode</th></tr><tr><td>First Class</td></tr><tr><td>Same Day</td></tr><tr><td>Standard Class</td></tr><tr><td>Second Class</td></tr></table>"
                    },
                    "metadata": {}
                },
                {
                    "output_type": "execute_result",
                    "execution_count": 2,
                    "data": {
                        "application/vnd.dataresource+json": {
                            "schema": {
                                "fields": [
                                    {
                                        "name": "Region"
                                    }
                                ]
                            },
                            "data": [
                                {
                                    "0": "East"
                                },
                                {
                                    "0": "South"
                                },
                                {
                                    "0": "West"
                                },
                                {
                                    "0": "Central"
                                }
                            ]
                        },
                        "text/html": "<table><tr><th>Region</th></tr><tr><td>East</td></tr><tr><td>South</td></tr><tr><td>West</td></tr><tr><td>Central</td></tr></table>"
                    },
                    "metadata": {}
                },
                {
                    "output_type": "execute_result",
                    "execution_count": 2,
                    "data": {
                        "application/vnd.dataresource+json": {
                            "schema": {
                                "fields": [
                                    {
                                        "name": "Segment"
                                    }
                                ]
                            },
                            "data": [
                                {
                                    "0": "Corporate"
                                },
                                {
                                    "0": "Home Office"
                                },
                                {
                                    "0": "Consumer"
                                }
                            ]
                        },
                        "text/html": "<table><tr><th>Segment</th></tr><tr><td>Corporate</td></tr><tr><td>Home Office</td></tr><tr><td>Consumer</td></tr></table>"
                    },
                    "metadata": {}
                },
                {
                    "output_type": "execute_result",
                    "execution_count": 2,
                    "data": {
                        "application/vnd.dataresource+json": {
                            "schema": {
                                "fields": [
                                    {
                                        "name": "avg_fulfillment_time"
                                    }
                                ]
                            },
                            "data": [
                                {
                                    "0": "3"
                                }
                            ]
                        },
                        "text/html": "<table><tr><th>avg_fulfillment_time</th></tr><tr><td>3</td></tr></table>"
                    },
                    "metadata": {}
                }
            ],
            "execution_count": 2
        },
        {
            "cell_type": "markdown",
            "source": [
                "Summarizing our findings: there are 3 types of customers  (corporate, consumer and home office), from 4 regions of the USA.  This Office Supply Retailer offers 4 types of shipping options (same day, first, second and standard class) and average time to fullfill the order is 3 days."
            ],
            "metadata": {
                "azdata_cell_guid": "925c6db8-4f6f-4b07-a48d-075834efcf30"
            },
            "attachments": {}
        },
        {
            "cell_type": "markdown",
            "source": [
                "### **Overall sales trend.**\n",
                "\n",
                "Lets find out the sales for each year, month-by month sales and the average sales every month.  I rounded sales number to 2 decimals. Besides ability to run queries Azure Data Studio gives an opportunity to create a simple graphs and charts."
            ],
            "metadata": {
                "azdata_cell_guid": "9197d757-f2f4-4ed1-bd96-b08e85f584c8"
            },
            "attachments": {}
        },
        {
            "cell_type": "code",
            "source": [
                "SELECT\r\n",
                "YEAR(Order_Date) AS year,\r\n",
                "round(sum(Sales), 2) AS year_sales_total\r\n",
                "FROM dbo.train\r\n",
                "GROUP BY YEAR(Order_Date)\r\n",
                "ORDER BY year "
            ],
            "metadata": {
                "azdata_cell_guid": "79f0c0f6-2c91-4322-8b89-88015348afbc",
                "language": "sql",
                "tags": []
            },
            "outputs": [
                {
                    "output_type": "display_data",
                    "data": {
                        "text/html": "(4 rows affected)"
                    },
                    "metadata": {}
                },
                {
                    "output_type": "display_data",
                    "data": {
                        "text/html": "Total execution time: 00:00:00.018"
                    },
                    "metadata": {}
                },
                {
                    "output_type": "execute_result",
                    "execution_count": 12,
                    "data": {
                        "application/vnd.dataresource+json": {
                            "schema": {
                                "fields": [
                                    {
                                        "name": "year"
                                    },
                                    {
                                        "name": "year_sales_total"
                                    }
                                ]
                            },
                            "data": [
                                {
                                    "0": "2015",
                                    "1": "479856.21"
                                },
                                {
                                    "0": "2016",
                                    "1": "459436.01"
                                },
                                {
                                    "0": "2017",
                                    "1": "600192.55"
                                },
                                {
                                    "0": "2018",
                                    "1": "722052.02"
                                }
                            ]
                        },
                        "text/html": "<table><tr><th>year</th><th>year_sales_total</th></tr><tr><td>2015</td><td>479856.21</td></tr><tr><td>2016</td><td>459436.01</td></tr><tr><td>2017</td><td>600192.55</td></tr><tr><td>2018</td><td>722052.02</td></tr></table>"
                    },
                    "metadata": {}
                }
            ],
            "execution_count": 12
        },
        {
            "cell_type": "code",
            "source": [
                "SELECT\r\n",
                "YEAR(Order_Date) AS year,\r\n",
                "MONTH(Order_Date) AS month,\r\n",
                "round(sum(Sales), 2) AS month_by_month_sales\r\n",
                "FROM dbo.train\r\n",
                "GROUP BY YEAR(Order_Date), MONTH(Order_Date)\r\n",
                "ORDER BY year, month"
            ],
            "metadata": {
                "language": "sql",
                "azdata_cell_guid": "b9f7e47a-4302-46d3-9885-dcc158e54406"
            },
            "outputs": [
                {
                    "output_type": "display_data",
                    "data": {
                        "text/html": "(48 rows affected)"
                    },
                    "metadata": {}
                },
                {
                    "output_type": "display_data",
                    "data": {
                        "text/html": "Total execution time: 00:00:00.023"
                    },
                    "metadata": {}
                },
                {
                    "output_type": "execute_result",
                    "execution_count": 13,
                    "data": {
                        "application/vnd.dataresource+json": {
                            "schema": {
                                "fields": [
                                    {
                                        "name": "year"
                                    },
                                    {
                                        "name": "month"
                                    },
                                    {
                                        "name": "month_by_month_sales"
                                    }
                                ]
                            },
                            "data": [
                                {
                                    "0": "2015",
                                    "1": "1",
                                    "2": "14205.71"
                                },
                                {
                                    "0": "2015",
                                    "1": "2",
                                    "2": "4519.89"
                                },
                                {
                                    "0": "2015",
                                    "1": "3",
                                    "2": "55205.8"
                                },
                                {
                                    "0": "2015",
                                    "1": "4",
                                    "2": "27906.85"
                                },
                                {
                                    "0": "2015",
                                    "1": "5",
                                    "2": "23644.3"
                                },
                                {
                                    "0": "2015",
                                    "1": "6",
                                    "2": "34322.94"
                                },
                                {
                                    "0": "2015",
                                    "1": "7",
                                    "2": "33781.54"
                                },
                                {
                                    "0": "2015",
                                    "1": "8",
                                    "2": "27117.54"
                                },
                                {
                                    "0": "2015",
                                    "1": "9",
                                    "2": "81623.53"
                                },
                                {
                                    "0": "2015",
                                    "1": "10",
                                    "2": "31453.39"
                                },
                                {
                                    "0": "2015",
                                    "1": "11",
                                    "2": "77907.66"
                                },
                                {
                                    "0": "2015",
                                    "1": "12",
                                    "2": "68167.06"
                                },
                                {
                                    "0": "2016",
                                    "1": "1",
                                    "2": "18066.96"
                                },
                                {
                                    "0": "2016",
                                    "1": "2",
                                    "2": "11951.41"
                                },
                                {
                                    "0": "2016",
                                    "1": "3",
                                    "2": "32339.32"
                                },
                                {
                                    "0": "2016",
                                    "1": "4",
                                    "2": "34154.47"
                                },
                                {
                                    "0": "2016",
                                    "1": "5",
                                    "2": "29959.53"
                                },
                                {
                                    "0": "2016",
                                    "1": "6",
                                    "2": "23599.37"
                                },
                                {
                                    "0": "2016",
                                    "1": "7",
                                    "2": "28608.26"
                                },
                                {
                                    "0": "2016",
                                    "1": "8",
                                    "2": "36818.34"
                                },
                                {
                                    "0": "2016",
                                    "1": "9",
                                    "2": "63133.61"
                                },
                                {
                                    "0": "2016",
                                    "1": "10",
                                    "2": "31011.74"
                                },
                                {
                                    "0": "2016",
                                    "1": "11",
                                    "2": "75249.4"
                                },
                                {
                                    "0": "2016",
                                    "1": "12",
                                    "2": "74543.6"
                                },
                                {
                                    "0": "2017",
                                    "1": "1",
                                    "2": "18542.49"
                                },
                                {
                                    "0": "2017",
                                    "1": "2",
                                    "2": "22978.82"
                                },
                                {
                                    "0": "2017",
                                    "1": "3",
                                    "2": "51165.06"
                                },
                                {
                                    "0": "2017",
                                    "1": "4",
                                    "2": "38679.77"
                                },
                                {
                                    "0": "2017",
                                    "1": "5",
                                    "2": "56656.91"
                                },
                                {
                                    "0": "2017",
                                    "1": "6",
                                    "2": "39724.49"
                                },
                                {
                                    "0": "2017",
                                    "1": "7",
                                    "2": "38320.78"
                                },
                                {
                                    "0": "2017",
                                    "1": "8",
                                    "2": "30542.2"
                                },
                                {
                                    "0": "2017",
                                    "1": "9",
                                    "2": "69193.39"
                                },
                                {
                                    "0": "2017",
                                    "1": "10",
                                    "2": "59583.03"
                                },
                                {
                                    "0": "2017",
                                    "1": "11",
                                    "2": "79066.5"
                                },
                                {
                                    "0": "2017",
                                    "1": "12",
                                    "2": "95739.12"
                                },
                                {
                                    "0": "2018",
                                    "1": "1",
                                    "2": "43476.47"
                                },
                                {
                                    "0": "2018",
                                    "1": "2",
                                    "2": "19921"
                                },
                                {
                                    "0": "2018",
                                    "1": "3",
                                    "2": "58863.41"
                                },
                                {
                                    "0": "2018",
                                    "1": "4",
                                    "2": "35541.91"
                                },
                                {
                                    "0": "2018",
                                    "1": "5",
                                    "2": "43825.98"
                                },
                                {
                                    "0": "2018",
                                    "1": "6",
                                    "2": "48190.73"
                                },
                                {
                                    "0": "2018",
                                    "1": "7",
                                    "2": "44825.1"
                                },
                                {
                                    "0": "2018",
                                    "1": "8",
                                    "2": "62837.85"
                                },
                                {
                                    "0": "2018",
                                    "1": "9",
                                    "2": "86152.89"
                                },
                                {
                                    "0": "2018",
                                    "1": "10",
                                    "2": "77448.13"
                                },
                                {
                                    "0": "2018",
                                    "1": "11",
                                    "2": "117938.15"
                                },
                                {
                                    "0": "2018",
                                    "1": "12",
                                    "2": "83030.39"
                                }
                            ]
                        },
                        "text/html": "<table><tr><th>year</th><th>month</th><th>month_by_month_sales</th></tr><tr><td>2015</td><td>1</td><td>14205.71</td></tr><tr><td>2015</td><td>2</td><td>4519.89</td></tr><tr><td>2015</td><td>3</td><td>55205.8</td></tr><tr><td>2015</td><td>4</td><td>27906.85</td></tr><tr><td>2015</td><td>5</td><td>23644.3</td></tr><tr><td>2015</td><td>6</td><td>34322.94</td></tr><tr><td>2015</td><td>7</td><td>33781.54</td></tr><tr><td>2015</td><td>8</td><td>27117.54</td></tr><tr><td>2015</td><td>9</td><td>81623.53</td></tr><tr><td>2015</td><td>10</td><td>31453.39</td></tr><tr><td>2015</td><td>11</td><td>77907.66</td></tr><tr><td>2015</td><td>12</td><td>68167.06</td></tr><tr><td>2016</td><td>1</td><td>18066.96</td></tr><tr><td>2016</td><td>2</td><td>11951.41</td></tr><tr><td>2016</td><td>3</td><td>32339.32</td></tr><tr><td>2016</td><td>4</td><td>34154.47</td></tr><tr><td>2016</td><td>5</td><td>29959.53</td></tr><tr><td>2016</td><td>6</td><td>23599.37</td></tr><tr><td>2016</td><td>7</td><td>28608.26</td></tr><tr><td>2016</td><td>8</td><td>36818.34</td></tr><tr><td>2016</td><td>9</td><td>63133.61</td></tr><tr><td>2016</td><td>10</td><td>31011.74</td></tr><tr><td>2016</td><td>11</td><td>75249.4</td></tr><tr><td>2016</td><td>12</td><td>74543.6</td></tr><tr><td>2017</td><td>1</td><td>18542.49</td></tr><tr><td>2017</td><td>2</td><td>22978.82</td></tr><tr><td>2017</td><td>3</td><td>51165.06</td></tr><tr><td>2017</td><td>4</td><td>38679.77</td></tr><tr><td>2017</td><td>5</td><td>56656.91</td></tr><tr><td>2017</td><td>6</td><td>39724.49</td></tr><tr><td>2017</td><td>7</td><td>38320.78</td></tr><tr><td>2017</td><td>8</td><td>30542.2</td></tr><tr><td>2017</td><td>9</td><td>69193.39</td></tr><tr><td>2017</td><td>10</td><td>59583.03</td></tr><tr><td>2017</td><td>11</td><td>79066.5</td></tr><tr><td>2017</td><td>12</td><td>95739.12</td></tr><tr><td>2018</td><td>1</td><td>43476.47</td></tr><tr><td>2018</td><td>2</td><td>19921</td></tr><tr><td>2018</td><td>3</td><td>58863.41</td></tr><tr><td>2018</td><td>4</td><td>35541.91</td></tr><tr><td>2018</td><td>5</td><td>43825.98</td></tr><tr><td>2018</td><td>6</td><td>48190.73</td></tr><tr><td>2018</td><td>7</td><td>44825.1</td></tr><tr><td>2018</td><td>8</td><td>62837.85</td></tr><tr><td>2018</td><td>9</td><td>86152.89</td></tr><tr><td>2018</td><td>10</td><td>77448.13</td></tr><tr><td>2018</td><td>11</td><td>117938.15</td></tr><tr><td>2018</td><td>12</td><td>83030.39</td></tr></table>"
                    },
                    "metadata": {
                        "azdata_chartOptions": {
                            "type": "line",
                            "dataDirection": "vertical",
                            "columnsAsLabels": true,
                            "labelFirstColumn": false,
                            "legendPosition": "top",
                            "yAxisLabel": "sales, $",
                            "dataType": "number"
                        }
                    }
                }
            ],
            "execution_count": 13
        },
        {
            "cell_type": "code",
            "source": [
                "SELECT\r\n",
                "MONTH(Order_Date) AS month,\r\n",
                "avg(Sales) AS monthly_sales_avg\r\n",
                "FROM dbo.train\r\n",
                "GROUP BY MONTH(Order_Date)\r\n",
                "ORDER BY month"
            ],
            "metadata": {
                "azdata_cell_guid": "708edb09-1506-45a9-bc6d-288829cb7ef4",
                "language": "sql",
                "tags": []
            },
            "outputs": [
                {
                    "output_type": "display_data",
                    "data": {
                        "text/html": "(12 rows affected)"
                    },
                    "metadata": {}
                },
                {
                    "output_type": "display_data",
                    "data": {
                        "text/html": "Total execution time: 00:00:00.067"
                    },
                    "metadata": {}
                },
                {
                    "output_type": "execute_result",
                    "execution_count": 5,
                    "data": {
                        "application/vnd.dataresource+json": {
                            "schema": {
                                "fields": [
                                    {
                                        "name": "month"
                                    },
                                    {
                                        "name": "monthly_sales_avg"
                                    }
                                ]
                            },
                            "data": [
                                {
                                    "0": "1",
                                    "1": "257.62740175483003"
                                },
                                {
                                    "0": "2",
                                    "1": "199.90274553427392"
                                },
                                {
                                    "0": "3",
                                    "1": "290.5493936456302"
                                },
                                {
                                    "0": "4",
                                    "1": "207.43226817154994"
                                },
                                {
                                    "0": "5",
                                    "1": "212.53341094132128"
                                },
                                {
                                    "0": "6",
                                    "1": "211.05285528513525"
                                },
                                {
                                    "0": "7",
                                    "1": "208.80299663509496"
                                },
                                {
                                    "0": "8",
                                    "1": "227.0071087396162"
                                },
                                {
                                    "0": "9",
                                    "1": "221.64210646521394"
                                },
                                {
                                    "0": "10",
                                    "1": "246.59616048020692"
                                },
                                {
                                    "0": "11",
                                    "1": "241.65749475559423"
                                },
                                {
                                    "0": "12",
                                    "1": "232.61951466493426"
                                }
                            ]
                        },
                        "text/html": "<table><tr><th>month</th><th>monthly_sales_avg</th></tr><tr><td>1</td><td>257.62740175483003</td></tr><tr><td>2</td><td>199.90274553427392</td></tr><tr><td>3</td><td>290.5493936456302</td></tr><tr><td>4</td><td>207.43226817154994</td></tr><tr><td>5</td><td>212.53341094132128</td></tr><tr><td>6</td><td>211.05285528513525</td></tr><tr><td>7</td><td>208.80299663509496</td></tr><tr><td>8</td><td>227.0071087396162</td></tr><tr><td>9</td><td>221.64210646521394</td></tr><tr><td>10</td><td>246.59616048020692</td></tr><tr><td>11</td><td>241.65749475559423</td></tr><tr><td>12</td><td>232.61951466493426</td></tr></table>"
                    },
                    "metadata": {
                        "azdata_chartOptions": {
                            "type": "bar",
                            "dataDirection": "vertical",
                            "columnsAsLabels": true,
                            "labelFirstColumn": false,
                            "legendPosition": "top",
                            "yAxisLabel": "average sales, $",
                            "xAxisLabel": "month"
                        }
                    }
                }
            ],
            "execution_count": 5
        },
        {
            "cell_type": "markdown",
            "source": [
                "### **Sales figures for each states. Top 25 cities with the highest sales.**"
            ],
            "metadata": {
                "language": "sql",
                "azdata_cell_guid": "945d74d8-4e4f-4c58-af61-d45fca52cb47"
            },
            "attachments": {}
        },
        {
            "cell_type": "code",
            "source": [
                "SELECT\r\n",
                "TOP 25 City,\r\n",
                "round(sum(Sales), 2) as sales_by_city\r\n",
                "FROM dbo.train\r\n",
                "GROUP BY City\r\n",
                "ORDER BY sales_by_city DESC\r\n",
                ""
            ],
            "metadata": {
                "azdata_cell_guid": "1af084e4-0379-4088-bf74-1ee743ce5185",
                "language": "sql"
            },
            "outputs": [
                {
                    "output_type": "display_data",
                    "data": {
                        "text/html": "(25 rows affected)"
                    },
                    "metadata": {}
                },
                {
                    "output_type": "display_data",
                    "data": {
                        "text/html": "Total execution time: 00:00:00.083"
                    },
                    "metadata": {}
                },
                {
                    "output_type": "execute_result",
                    "execution_count": 1,
                    "data": {
                        "application/vnd.dataresource+json": {
                            "schema": {
                                "fields": [
                                    {
                                        "name": "City"
                                    },
                                    {
                                        "name": "sales_by_city"
                                    }
                                ]
                            },
                            "data": [
                                {
                                    "0": "New York City",
                                    "1": "252462.55"
                                },
                                {
                                    "0": "Los Angeles",
                                    "1": "173420.18"
                                },
                                {
                                    "0": "Seattle",
                                    "1": "116106.32"
                                },
                                {
                                    "0": "San Francisco",
                                    "1": "109041.12"
                                },
                                {
                                    "0": "Philadelphia",
                                    "1": "108841.75"
                                },
                                {
                                    "0": "Houston",
                                    "1": "63956.14"
                                },
                                {
                                    "0": "Chicago",
                                    "1": "47820.13"
                                },
                                {
                                    "0": "San Diego",
                                    "1": "47521.03"
                                },
                                {
                                    "0": "Jacksonville",
                                    "1": "44713.18"
                                },
                                {
                                    "0": "Detroit",
                                    "1": "42446.94"
                                },
                                {
                                    "0": "Springfield",
                                    "1": "41827.81"
                                },
                                {
                                    "0": "Columbus",
                                    "1": "38662.56"
                                },
                                {
                                    "0": "Newark",
                                    "1": "28448.05"
                                },
                                {
                                    "0": "Columbia",
                                    "1": "25283.32"
                                },
                                {
                                    "0": "Jackson",
                                    "1": "24963.86"
                                },
                                {
                                    "0": "Lafayette",
                                    "1": "24944.28"
                                },
                                {
                                    "0": "San Antonio",
                                    "1": "21843.53"
                                },
                                {
                                    "0": "Burlington",
                                    "1": "21668.08"
                                },
                                {
                                    "0": "Arlington",
                                    "1": "20214.53"
                                },
                                {
                                    "0": "Dallas",
                                    "1": "20127.95"
                                },
                                {
                                    "0": "Lakewood",
                                    "1": "18183.11"
                                },
                                {
                                    "0": "Richmond",
                                    "1": "17663.87"
                                },
                                {
                                    "0": "Henderson",
                                    "1": "17549.07"
                                },
                                {
                                    "0": "Atlanta",
                                    "1": "17197.84"
                                },
                                {
                                    "0": "Minneapolis",
                                    "1": "16870.54"
                                }
                            ]
                        },
                        "text/html": "<table><tr><th>City</th><th>sales_by_city</th></tr><tr><td>New York City</td><td>252462.55</td></tr><tr><td>Los Angeles</td><td>173420.18</td></tr><tr><td>Seattle</td><td>116106.32</td></tr><tr><td>San Francisco</td><td>109041.12</td></tr><tr><td>Philadelphia</td><td>108841.75</td></tr><tr><td>Houston</td><td>63956.14</td></tr><tr><td>Chicago</td><td>47820.13</td></tr><tr><td>San Diego</td><td>47521.03</td></tr><tr><td>Jacksonville</td><td>44713.18</td></tr><tr><td>Detroit</td><td>42446.94</td></tr><tr><td>Springfield</td><td>41827.81</td></tr><tr><td>Columbus</td><td>38662.56</td></tr><tr><td>Newark</td><td>28448.05</td></tr><tr><td>Columbia</td><td>25283.32</td></tr><tr><td>Jackson</td><td>24963.86</td></tr><tr><td>Lafayette</td><td>24944.28</td></tr><tr><td>San Antonio</td><td>21843.53</td></tr><tr><td>Burlington</td><td>21668.08</td></tr><tr><td>Arlington</td><td>20214.53</td></tr><tr><td>Dallas</td><td>20127.95</td></tr><tr><td>Lakewood</td><td>18183.11</td></tr><tr><td>Richmond</td><td>17663.87</td></tr><tr><td>Henderson</td><td>17549.07</td></tr><tr><td>Atlanta</td><td>17197.84</td></tr><tr><td>Minneapolis</td><td>16870.54</td></tr></table>"
                    },
                    "metadata": {
                        "azdata_chartOptions": {
                            "type": "bar",
                            "dataDirection": "vertical",
                            "columnsAsLabels": true,
                            "labelFirstColumn": false,
                            "legendPosition": "top"
                        }
                    }
                }
            ],
            "execution_count": 1
        },
        {
            "cell_type": "code",
            "source": [
                "SELECT\r\n",
                "State,\r\n",
                "round(sum(Sales), 2) as sales_by_state\r\n",
                "FROM dbo.train\r\n",
                "GROUP BY State\r\n",
                "ORDER BY sales_by_state DESC\r\n",
                ""
            ],
            "metadata": {
                "language": "sql",
                "azdata_cell_guid": "8f3f13e1-b025-46c7-8dfc-11f101278a09"
            },
            "outputs": [
                {
                    "output_type": "display_data",
                    "data": {
                        "text/html": "(49 rows affected)"
                    },
                    "metadata": {}
                },
                {
                    "output_type": "display_data",
                    "data": {
                        "text/html": "Total execution time: 00:00:00.024"
                    },
                    "metadata": {}
                },
                {
                    "output_type": "execute_result",
                    "execution_count": 2,
                    "data": {
                        "application/vnd.dataresource+json": {
                            "schema": {
                                "fields": [
                                    {
                                        "name": "State"
                                    },
                                    {
                                        "name": "sales_by_state"
                                    }
                                ]
                            },
                            "data": [
                                {
                                    "0": "California",
                                    "1": "446306.46"
                                },
                                {
                                    "0": "New York",
                                    "1": "306361.15"
                                },
                                {
                                    "0": "Texas",
                                    "1": "168572.53"
                                },
                                {
                                    "0": "Washington",
                                    "1": "135206.85"
                                },
                                {
                                    "0": "Pennsylvania",
                                    "1": "116276.65"
                                },
                                {
                                    "0": "Florida",
                                    "1": "88436.53"
                                },
                                {
                                    "0": "Illinois",
                                    "1": "79236.52"
                                },
                                {
                                    "0": "Michigan",
                                    "1": "76136.07"
                                },
                                {
                                    "0": "Ohio",
                                    "1": "75130.35"
                                },
                                {
                                    "0": "Virginia",
                                    "1": "70636.72"
                                },
                                {
                                    "0": "North Carolina",
                                    "1": "55165.96"
                                },
                                {
                                    "0": "Indiana",
                                    "1": "48718.4"
                                },
                                {
                                    "0": "Georgia",
                                    "1": "48219.11"
                                },
                                {
                                    "0": "Kentucky",
                                    "1": "36458.39"
                                },
                                {
                                    "0": "Arizona",
                                    "1": "35272.66"
                                },
                                {
                                    "0": "New Jersey",
                                    "1": "34610.97"
                                },
                                {
                                    "0": "Colorado",
                                    "1": "31841.6"
                                },
                                {
                                    "0": "Wisconsin",
                                    "1": "31173.43"
                                },
                                {
                                    "0": "Tennessee",
                                    "1": "30661.87"
                                },
                                {
                                    "0": "Minnesota",
                                    "1": "29863.15"
                                },
                                {
                                    "0": "Massachusetts",
                                    "1": "28634.43"
                                },
                                {
                                    "0": "Delaware",
                                    "1": "27323"
                                },
                                {
                                    "0": "Maryland",
                                    "1": "23705.52"
                                },
                                {
                                    "0": "Rhode Island",
                                    "1": "22525.03"
                                },
                                {
                                    "0": "Missouri",
                                    "1": "22205.15"
                                },
                                {
                                    "0": "Oklahoma",
                                    "1": "19683.39"
                                },
                                {
                                    "0": "Alabama",
                                    "1": "19510.64"
                                },
                                {
                                    "0": "Oregon",
                                    "1": "17284.46"
                                },
                                {
                                    "0": "Nevada",
                                    "1": "16729.1"
                                },
                                {
                                    "0": "Connecticut",
                                    "1": "13384.36"
                                },
                                {
                                    "0": "Arkansas",
                                    "1": "11678.13"
                                },
                                {
                                    "0": "Utah",
                                    "1": "11220.06"
                                },
                                {
                                    "0": "Mississippi",
                                    "1": "10771.34"
                                },
                                {
                                    "0": "Louisiana",
                                    "1": "9131.05"
                                },
                                {
                                    "0": "Vermont",
                                    "1": "8929.37"
                                },
                                {
                                    "0": "South Carolina",
                                    "1": "8481.71"
                                },
                                {
                                    "0": "Nebraska",
                                    "1": "7464.93"
                                },
                                {
                                    "0": "New Hampshire",
                                    "1": "7292.52"
                                },
                                {
                                    "0": "Montana",
                                    "1": "5589.35"
                                },
                                {
                                    "0": "New Mexico",
                                    "1": "4783.52"
                                },
                                {
                                    "0": "Iowa",
                                    "1": "4443.56"
                                },
                                {
                                    "0": "Idaho",
                                    "1": "4382.49"
                                },
                                {
                                    "0": "Kansas",
                                    "1": "2914.31"
                                },
                                {
                                    "0": "District of Columbia",
                                    "1": "2865.02"
                                },
                                {
                                    "0": "Wyoming",
                                    "1": "1603.14"
                                },
                                {
                                    "0": "South Dakota",
                                    "1": "1315.56"
                                },
                                {
                                    "0": "Maine",
                                    "1": "1270.53"
                                },
                                {
                                    "0": "West Virginia",
                                    "1": "1209.82"
                                },
                                {
                                    "0": "North Dakota",
                                    "1": "919.91"
                                }
                            ]
                        },
                        "text/html": "<table><tr><th>State</th><th>sales_by_state</th></tr><tr><td>California</td><td>446306.46</td></tr><tr><td>New York</td><td>306361.15</td></tr><tr><td>Texas</td><td>168572.53</td></tr><tr><td>Washington</td><td>135206.85</td></tr><tr><td>Pennsylvania</td><td>116276.65</td></tr><tr><td>Florida</td><td>88436.53</td></tr><tr><td>Illinois</td><td>79236.52</td></tr><tr><td>Michigan</td><td>76136.07</td></tr><tr><td>Ohio</td><td>75130.35</td></tr><tr><td>Virginia</td><td>70636.72</td></tr><tr><td>North Carolina</td><td>55165.96</td></tr><tr><td>Indiana</td><td>48718.4</td></tr><tr><td>Georgia</td><td>48219.11</td></tr><tr><td>Kentucky</td><td>36458.39</td></tr><tr><td>Arizona</td><td>35272.66</td></tr><tr><td>New Jersey</td><td>34610.97</td></tr><tr><td>Colorado</td><td>31841.6</td></tr><tr><td>Wisconsin</td><td>31173.43</td></tr><tr><td>Tennessee</td><td>30661.87</td></tr><tr><td>Minnesota</td><td>29863.15</td></tr><tr><td>Massachusetts</td><td>28634.43</td></tr><tr><td>Delaware</td><td>27323</td></tr><tr><td>Maryland</td><td>23705.52</td></tr><tr><td>Rhode Island</td><td>22525.03</td></tr><tr><td>Missouri</td><td>22205.15</td></tr><tr><td>Oklahoma</td><td>19683.39</td></tr><tr><td>Alabama</td><td>19510.64</td></tr><tr><td>Oregon</td><td>17284.46</td></tr><tr><td>Nevada</td><td>16729.1</td></tr><tr><td>Connecticut</td><td>13384.36</td></tr><tr><td>Arkansas</td><td>11678.13</td></tr><tr><td>Utah</td><td>11220.06</td></tr><tr><td>Mississippi</td><td>10771.34</td></tr><tr><td>Louisiana</td><td>9131.05</td></tr><tr><td>Vermont</td><td>8929.37</td></tr><tr><td>South Carolina</td><td>8481.71</td></tr><tr><td>Nebraska</td><td>7464.93</td></tr><tr><td>New Hampshire</td><td>7292.52</td></tr><tr><td>Montana</td><td>5589.35</td></tr><tr><td>New Mexico</td><td>4783.52</td></tr><tr><td>Iowa</td><td>4443.56</td></tr><tr><td>Idaho</td><td>4382.49</td></tr><tr><td>Kansas</td><td>2914.31</td></tr><tr><td>District of Columbia</td><td>2865.02</td></tr><tr><td>Wyoming</td><td>1603.14</td></tr><tr><td>South Dakota</td><td>1315.56</td></tr><tr><td>Maine</td><td>1270.53</td></tr><tr><td>West Virginia</td><td>1209.82</td></tr><tr><td>North Dakota</td><td>919.91</td></tr></table>"
                    },
                    "metadata": {
                        "azdata_chartOptions": {
                            "type": "bar",
                            "dataDirection": "vertical",
                            "columnsAsLabels": true,
                            "labelFirstColumn": false,
                            "legendPosition": "top"
                        }
                    }
                }
            ],
            "execution_count": 2
        },
        {
            "cell_type": "markdown",
            "source": [
                "### **Biggest clients.**\n",
                "\n",
                "The list of our top 15 clients is organized in descending order."
            ],
            "metadata": {
                "language": "sql",
                "azdata_cell_guid": "3d7c7264-581a-43eb-be04-287762d0a90c"
            },
            "attachments": {}
        },
        {
            "cell_type": "code",
            "source": [
                "SELECT\r\n",
                "TOP 15 Customer_Name,\r\n",
                "round(sum(Sales), 2) AS sales_by_customers\r\n",
                "FROM dbo.train\r\n",
                "GROUP BY Customer_Name\r\n",
                "ORDER BY sales_by_customers DESC"
            ],
            "metadata": {
                "azdata_cell_guid": "1f023f73-3da3-430e-8cd3-89c45d0a64e0",
                "language": "sql"
            },
            "outputs": [
                {
                    "output_type": "display_data",
                    "data": {
                        "text/html": "(15 rows affected)"
                    },
                    "metadata": {}
                },
                {
                    "output_type": "display_data",
                    "data": {
                        "text/html": "Total execution time: 00:00:00.012"
                    },
                    "metadata": {}
                },
                {
                    "output_type": "execute_result",
                    "execution_count": 3,
                    "data": {
                        "application/vnd.dataresource+json": {
                            "schema": {
                                "fields": [
                                    {
                                        "name": "Customer_Name"
                                    },
                                    {
                                        "name": "sales_by_customers"
                                    }
                                ]
                            },
                            "data": [
                                {
                                    "0": "Sean Miller",
                                    "1": "25043.05"
                                },
                                {
                                    "0": "Tamara Chand",
                                    "1": "19052.22"
                                },
                                {
                                    "0": "Raymond Buch",
                                    "1": "15117.34"
                                },
                                {
                                    "0": "Tom Ashbrook",
                                    "1": "14595.62"
                                },
                                {
                                    "0": "Adrian Barton",
                                    "1": "14473.57"
                                },
                                {
                                    "0": "Ken Lonsdale",
                                    "1": "14175.23"
                                },
                                {
                                    "0": "Sanjit Chand",
                                    "1": "14142.33"
                                },
                                {
                                    "0": "Hunter Lopez",
                                    "1": "12873.3"
                                },
                                {
                                    "0": "Sanjit Engle",
                                    "1": "12209.44"
                                },
                                {
                                    "0": "Christopher Conant",
                                    "1": "12129.07"
                                },
                                {
                                    "0": "Todd Sumrall",
                                    "1": "11891.75"
                                },
                                {
                                    "0": "Greg Tran",
                                    "1": "11820.12"
                                },
                                {
                                    "0": "Becky Martin",
                                    "1": "11789.63"
                                },
                                {
                                    "0": "Seth Vernon",
                                    "1": "11470.95"
                                },
                                {
                                    "0": "Caroline Jumper",
                                    "1": "11164.97"
                                }
                            ]
                        },
                        "text/html": "<table><tr><th>Customer_Name</th><th>sales_by_customers</th></tr><tr><td>Sean Miller</td><td>25043.05</td></tr><tr><td>Tamara Chand</td><td>19052.22</td></tr><tr><td>Raymond Buch</td><td>15117.34</td></tr><tr><td>Tom Ashbrook</td><td>14595.62</td></tr><tr><td>Adrian Barton</td><td>14473.57</td></tr><tr><td>Ken Lonsdale</td><td>14175.23</td></tr><tr><td>Sanjit Chand</td><td>14142.33</td></tr><tr><td>Hunter Lopez</td><td>12873.3</td></tr><tr><td>Sanjit Engle</td><td>12209.44</td></tr><tr><td>Christopher Conant</td><td>12129.07</td></tr><tr><td>Todd Sumrall</td><td>11891.75</td></tr><tr><td>Greg Tran</td><td>11820.12</td></tr><tr><td>Becky Martin</td><td>11789.63</td></tr><tr><td>Seth Vernon</td><td>11470.95</td></tr><tr><td>Caroline Jumper</td><td>11164.97</td></tr></table>"
                    },
                    "metadata": {}
                }
            ],
            "execution_count": 3
        },
        {
            "cell_type": "markdown",
            "source": [
                "### **Which customers (segment) contributed more into the sales?**\n",
                "\n",
                "At first lets us find out  which market segment is responsoble for the highest sales."
            ],
            "metadata": {
                "language": "sql",
                "azdata_cell_guid": "d45779fe-02c9-4786-a724-4583ddb125e2"
            },
            "attachments": {}
        },
        {
            "cell_type": "code",
            "source": [
                "SELECT\r\n",
                "Segment,\r\n",
                "round(sum(Sales), 2) sales_by_segment\r\n",
                "FROM dbo.train\r\n",
                "GROUP BY Segment\r\n",
                "ORDER BY sales_by_segment\r\n",
                ""
            ],
            "metadata": {
                "language": "sql",
                "azdata_cell_guid": "86d36f1b-f690-42ce-93a1-a5945f576c4d"
            },
            "outputs": [
                {
                    "output_type": "display_data",
                    "data": {
                        "text/html": "(3 rows affected)"
                    },
                    "metadata": {}
                },
                {
                    "output_type": "display_data",
                    "data": {
                        "text/html": "Total execution time: 00:00:00.077"
                    },
                    "metadata": {}
                },
                {
                    "output_type": "execute_result",
                    "metadata": {
                        "azdata_chartOptions": {
                            "type": "pie",
                            "dataDirection": "vertical",
                            "columnsAsLabels": true,
                            "labelFirstColumn": false,
                            "legendPosition": "right"
                        }
                    },
                    "execution_count": 1,
                    "data": {
                        "application/vnd.dataresource+json": {
                            "schema": {
                                "fields": [
                                    {
                                        "name": "Segment"
                                    },
                                    {
                                        "name": "sales_by_segment"
                                    }
                                ]
                            },
                            "data": [
                                {
                                    "0": "Home Office",
                                    "1": "424982.18"
                                },
                                {
                                    "0": "Corporate",
                                    "1": "688494.07"
                                },
                                {
                                    "0": "Consumer",
                                    "1": "1148060.53"
                                }
                            ]
                        },
                        "text/html": [
                            "<table>",
                            "<tr><th>Segment</th><th>sales_by_segment</th></tr>",
                            "<tr><td>Home Office</td><td>424982.18</td></tr>",
                            "<tr><td>Corporate</td><td>688494.07</td></tr>",
                            "<tr><td>Consumer</td><td>1148060.53</td></tr>",
                            "</table>"
                        ]
                    }
                }
            ],
            "execution_count": 1
        },
        {
            "cell_type": "markdown",
            "source": [
                "Next questions, how many orders were completed by each customers(market segment) and how many products did they ordered."
            ],
            "metadata": {
                "language": "sql",
                "azdata_cell_guid": "3b5ac7e6-59df-4613-b30b-d4c2e711a20a"
            },
            "attachments": {}
        },
        {
            "cell_type": "code",
            "source": [
                "SELECT\r\n",
                "COUNT(Distinct Order_ID) AS corporate_order_total,\r\n",
                "COUNT(Product_Name) AS product_ordered_by_corporate,\r\n",
                "round(sum(Sales), 2) AS corporate_sales_in_$,\r\n",
                "CONCAT(round(sum(Sales) * 100 / (SELECT sum(Sales) FROM dbo.train), 2), '%') AS percentage_of_total_sales_$ -- counting percentage \r\n",
                "FROM dbo.train\r\n",
                "WHERE \r\n",
                "Segment = 'Corporate'\r\n",
                "\r\n",
                "SELECT\r\n",
                "COUNT(Distinct Order_ID) AS home_office_total_order,\r\n",
                "COUNT(Product_Name) AS product_ordered_by_home_office,\r\n",
                "round(sum(Sales), 2) AS home_office_sale_in_$,\r\n",
                "CONCAT(round(sum(Sales) * 100 / (SELECT sum(Sales) FROM dbo.train), 2), '%') AS percentage_of_total_sales_$\r\n",
                "FROM dbo.train\r\n",
                "WHERE \r\n",
                "Segment = 'Home Office'\r\n",
                "\r\n",
                "SELECT\r\n",
                "COUNT(Distinct Order_ID) AS consumer_order_total,\r\n",
                "COUNT(Product_Name) AS product_ordered_by_consumer,\r\n",
                "round(sum(Sales), 2) AS consumer_sales_in_$,\r\n",
                "CONCAT(round(sum(Sales) * 100 / (SELECT sum(Sales) FROM dbo.train), 2), '%') AS percentage_of_total_sales_$\r\n",
                "FROM dbo.train\r\n",
                "WHERE \r\n",
                "Segment = 'Consumer'\r\n",
                ""
            ],
            "metadata": {
                "azdata_cell_guid": "7dafe98a-bdd0-4a65-9f60-79ac977f1b21",
                "language": "sql"
            },
            "outputs": [
                {
                    "output_type": "display_data",
                    "data": {
                        "text/html": "(1 row affected)"
                    },
                    "metadata": {}
                },
                {
                    "output_type": "display_data",
                    "data": {
                        "text/html": "(1 row affected)"
                    },
                    "metadata": {}
                },
                {
                    "output_type": "display_data",
                    "data": {
                        "text/html": "(1 row affected)"
                    },
                    "metadata": {}
                },
                {
                    "output_type": "display_data",
                    "data": {
                        "text/html": "Total execution time: 00:00:00.063"
                    },
                    "metadata": {}
                },
                {
                    "output_type": "execute_result",
                    "metadata": {},
                    "execution_count": 2,
                    "data": {
                        "application/vnd.dataresource+json": {
                            "schema": {
                                "fields": [
                                    {
                                        "name": "corporate_order_total"
                                    },
                                    {
                                        "name": "product_ordered_by_corporate"
                                    },
                                    {
                                        "name": "corporate_sales_in_$"
                                    },
                                    {
                                        "name": "percentage_of_total_sales_$"
                                    }
                                ]
                            },
                            "data": [
                                {
                                    "0": "1491",
                                    "1": "2953",
                                    "2": "688494.07",
                                    "3": "30.44%"
                                }
                            ]
                        },
                        "text/html": [
                            "<table>",
                            "<tr><th>corporate_order_total</th><th>product_ordered_by_corporate</th><th>corporate_sales_in_$</th><th>percentage_of_total_sales_$</th></tr>",
                            "<tr><td>1491</td><td>2953</td><td>688494.07</td><td>30.44%</td></tr>",
                            "</table>"
                        ]
                    }
                },
                {
                    "output_type": "execute_result",
                    "metadata": {},
                    "execution_count": 2,
                    "data": {
                        "application/vnd.dataresource+json": {
                            "schema": {
                                "fields": [
                                    {
                                        "name": "home_office_total_order"
                                    },
                                    {
                                        "name": "product_ordered_by_home_office"
                                    },
                                    {
                                        "name": "home_office_sale_in_$"
                                    },
                                    {
                                        "name": "percentage_of_total_sales_$"
                                    }
                                ]
                            },
                            "data": [
                                {
                                    "0": "894",
                                    "1": "1746",
                                    "2": "424982.18",
                                    "3": "18.79%"
                                }
                            ]
                        },
                        "text/html": [
                            "<table>",
                            "<tr><th>home_office_total_order</th><th>product_ordered_by_home_office</th><th>home_office_sale_in_$</th><th>percentage_of_total_sales_$</th></tr>",
                            "<tr><td>894</td><td>1746</td><td>424982.18</td><td>18.79%</td></tr>",
                            "</table>"
                        ]
                    }
                },
                {
                    "output_type": "execute_result",
                    "metadata": {},
                    "execution_count": 2,
                    "data": {
                        "application/vnd.dataresource+json": {
                            "schema": {
                                "fields": [
                                    {
                                        "name": "consumer_order_total"
                                    },
                                    {
                                        "name": "product_ordered_by_consumer"
                                    },
                                    {
                                        "name": "consumer_sales_in_$"
                                    },
                                    {
                                        "name": "percentage_of_total_sales_$"
                                    }
                                ]
                            },
                            "data": [
                                {
                                    "0": "2537",
                                    "1": "5101",
                                    "2": "1148060.53",
                                    "3": "50.76%"
                                }
                            ]
                        },
                        "text/html": [
                            "<table>",
                            "<tr><th>consumer_order_total</th><th>product_ordered_by_consumer</th><th>consumer_sales_in_$</th><th>percentage_of_total_sales_$</th></tr>",
                            "<tr><td>2537</td><td>5101</td><td>1148060.53</td><td>50.76%</td></tr>",
                            "</table>"
                        ]
                    }
                }
            ],
            "execution_count": 2
        },
        {
            "cell_type": "markdown",
            "source": [
                "We can see from above that segment 'Consumer' contributed almost 51% in total sales (in $)  and bought more products then 'Home Office' and 'Corporate' combined."
            ],
            "metadata": {
                "language": "sql",
                "azdata_cell_guid": "cbb62ee5-250c-43d5-a58b-f404ba881f8a"
            },
            "attachments": {}
        },
        {
            "cell_type": "markdown",
            "source": [
                "### **Popular shipping method.**"
            ],
            "metadata": {
                "language": "sql",
                "azdata_cell_guid": "3f6fc422-12ef-4c99-bb18-c0f636e5ddfe"
            },
            "attachments": {}
        },
        {
            "cell_type": "code",
            "source": [
                "SELECT\r\n",
                "Ship_Mode,\r\n",
                "COUNT(DISTINCT Order_ID) as sales_by_shipping_method\r\n",
                "FROM dbo.train\r\n",
                "GROUP BY Ship_Mode\r\n",
                "ORDER BY sales_by_shipping_method\r\n",
                ""
            ],
            "metadata": {
                "language": "sql",
                "azdata_cell_guid": "099425e9-f345-42a7-a91d-5b4a734ad557"
            },
            "outputs": [
                {
                    "output_type": "display_data",
                    "data": {
                        "text/html": "(4 rows affected)"
                    },
                    "metadata": {}
                },
                {
                    "output_type": "display_data",
                    "data": {
                        "text/html": "Total execution time: 00:00:00.031"
                    },
                    "metadata": {}
                },
                {
                    "output_type": "execute_result",
                    "metadata": {
                        "azdata_chartOptions": {
                            "type": "pie",
                            "dataDirection": "vertical",
                            "columnsAsLabels": true,
                            "labelFirstColumn": false,
                            "legendPosition": "right"
                        }
                    },
                    "execution_count": 3,
                    "data": {
                        "application/vnd.dataresource+json": {
                            "schema": {
                                "fields": [
                                    {
                                        "name": "Ship_Mode"
                                    },
                                    {
                                        "name": "sales_by_shipping_method"
                                    }
                                ]
                            },
                            "data": [
                                {
                                    "0": "Same Day",
                                    "1": "261"
                                },
                                {
                                    "0": "First Class",
                                    "1": "772"
                                },
                                {
                                    "0": "Second Class",
                                    "1": "944"
                                },
                                {
                                    "0": "Standard Class",
                                    "1": "2945"
                                }
                            ]
                        },
                        "text/html": [
                            "<table>",
                            "<tr><th>Ship_Mode</th><th>sales_by_shipping_method</th></tr>",
                            "<tr><td>Same Day</td><td>261</td></tr>",
                            "<tr><td>First Class</td><td>772</td></tr>",
                            "<tr><td>Second Class</td><td>944</td></tr>",
                            "<tr><td>Standard Class</td><td>2945</td></tr>",
                            "</table>"
                        ]
                    }
                }
            ],
            "execution_count": 3
        },
        {
            "cell_type": "markdown",
            "source": [
                "### **Most profitable products (list of 15).  Top 10 most expensive and cheapest products.**"
            ],
            "metadata": {
                "language": "sql",
                "azdata_cell_guid": "857008db-9dee-444b-930a-2269a03909b5"
            },
            "attachments": {}
        },
        {
            "cell_type": "code",
            "source": [
                "SELECT\r\n",
                "TOP 15 Product_Name,\r\n",
                "round(sum(Sales), 2) AS sales_by_product\r\n",
                "FROM dbo.train\r\n",
                "GROUP BY Product_Name\r\n",
                "ORDER BY sales_by_product DESC"
            ],
            "metadata": {
                "language": "sql",
                "azdata_cell_guid": "212e95a9-db86-4f2d-81fc-49b781818c1a"
            },
            "outputs": [
                {
                    "output_type": "display_data",
                    "data": {
                        "text/html": "(15 rows affected)"
                    },
                    "metadata": {}
                },
                {
                    "output_type": "display_data",
                    "data": {
                        "text/html": "Total execution time: 00:00:00.034"
                    },
                    "metadata": {}
                },
                {
                    "output_type": "execute_result",
                    "metadata": {
                        "azdata_chartOptions": {
                            "type": "bar",
                            "dataDirection": "vertical",
                            "columnsAsLabels": true,
                            "labelFirstColumn": false,
                            "legendPosition": "top",
                            "yAxisLabel": "sales, $"
                        }
                    },
                    "execution_count": 4,
                    "data": {
                        "application/vnd.dataresource+json": {
                            "schema": {
                                "fields": [
                                    {
                                        "name": "Product_Name"
                                    },
                                    {
                                        "name": "sales_by_product"
                                    }
                                ]
                            },
                            "data": [
                                {
                                    "0": "Canon imageCLASS 2200 Advanced Copier",
                                    "1": "61599.82"
                                },
                                {
                                    "0": "Fellowes PB500 Electric Punch Plastic Comb Binding Machine with Manual Bind",
                                    "1": "27453.38"
                                },
                                {
                                    "0": "Cisco TelePresence System EX90 Videoconferencing Unit",
                                    "1": "22638.48"
                                },
                                {
                                    "0": "HON 5400 Series Task Chairs for Big and Tall",
                                    "1": "21870.58"
                                },
                                {
                                    "0": "GBC DocuBind TL300 Electric Binding System",
                                    "1": "19823.48"
                                },
                                {
                                    "0": "GBC Ibimaster 500 Manual ProClick Binding System",
                                    "1": "19024.5"
                                },
                                {
                                    "0": "Hewlett Packard LaserJet 3310 Copier",
                                    "1": "18839.69"
                                },
                                {
                                    "0": "HP Designjet T520 Inkjet Large Format Printer - 24\" Color",
                                    "1": "18374.9"
                                },
                                {
                                    "0": "GBC DocuBind P400 Electric Binding System",
                                    "1": "17965.07"
                                },
                                {
                                    "0": "High Speed Automatic Electric Letter Opener",
                                    "1": "17030.31"
                                },
                                {
                                    "0": "Lexmark MX611dhe Monochrome Laser Printer",
                                    "1": "16829.9"
                                },
                                {
                                    "0": "Martin Yale Chadless Opener Electric Letter Opener",
                                    "1": "16656.2"
                                },
                                {
                                    "0": "Ibico EPK-21 Electric Binding System",
                                    "1": "15875.92"
                                },
                                {
                                    "0": "Riverside Palais Royal Lawyers Bookcase, Royale Cherry Finish",
                                    "1": "15610.97"
                                },
                                {
                                    "0": "3D Systems Cube Printer, 2nd Generation, Magenta",
                                    "1": "14299.89"
                                }
                            ]
                        },
                        "text/html": [
                            "<table>",
                            "<tr><th>Product_Name</th><th>sales_by_product</th></tr>",
                            "<tr><td>Canon imageCLASS 2200 Advanced Copier</td><td>61599.82</td></tr>",
                            "<tr><td>Fellowes PB500 Electric Punch Plastic Comb Binding Machine with Manual Bind</td><td>27453.38</td></tr>",
                            "<tr><td>Cisco TelePresence System EX90 Videoconferencing Unit</td><td>22638.48</td></tr>",
                            "<tr><td>HON 5400 Series Task Chairs for Big and Tall</td><td>21870.58</td></tr>",
                            "<tr><td>GBC DocuBind TL300 Electric Binding System</td><td>19823.48</td></tr>",
                            "<tr><td>GBC Ibimaster 500 Manual ProClick Binding System</td><td>19024.5</td></tr>",
                            "<tr><td>Hewlett Packard LaserJet 3310 Copier</td><td>18839.69</td></tr>",
                            "<tr><td>HP Designjet T520 Inkjet Large Format Printer - 24&quot; Color</td><td>18374.9</td></tr>",
                            "<tr><td>GBC DocuBind P400 Electric Binding System</td><td>17965.07</td></tr>",
                            "<tr><td>High Speed Automatic Electric Letter Opener</td><td>17030.31</td></tr>",
                            "<tr><td>Lexmark MX611dhe Monochrome Laser Printer</td><td>16829.9</td></tr>",
                            "<tr><td>Martin Yale Chadless Opener Electric Letter Opener</td><td>16656.2</td></tr>",
                            "<tr><td>Ibico EPK-21 Electric Binding System</td><td>15875.92</td></tr>",
                            "<tr><td>Riverside Palais Royal Lawyers Bookcase, Royale Cherry Finish</td><td>15610.97</td></tr>",
                            "<tr><td>3D Systems Cube Printer, 2nd Generation, Magenta</td><td>14299.89</td></tr>",
                            "</table>"
                        ]
                    }
                }
            ],
            "execution_count": 4
        },
        {
            "cell_type": "code",
            "source": [
                "SELECT\r\n",
                "DISTINCT TOP 10 Product_Name,\r\n",
                "Sales\r\n",
                "FROM dbo.train\r\n",
                "ORDER BY Sales DESC\r\n",
                ""
            ],
            "metadata": {
                "azdata_cell_guid": "b2d78d78-04d4-43ec-9a75-66ff6333d4bb",
                "language": "sql"
            },
            "outputs": [
                {
                    "output_type": "display_data",
                    "data": {
                        "text/html": "(10 rows affected)"
                    },
                    "metadata": {}
                },
                {
                    "output_type": "display_data",
                    "data": {
                        "text/html": "Total execution time: 00:00:00.025"
                    },
                    "metadata": {}
                },
                {
                    "output_type": "execute_result",
                    "execution_count": 5,
                    "data": {
                        "application/vnd.dataresource+json": {
                            "schema": {
                                "fields": [
                                    {
                                        "name": "Product_Name"
                                    },
                                    {
                                        "name": "Sales"
                                    }
                                ]
                            },
                            "data": [
                                {
                                    "0": "Cisco TelePresence System EX90 Videoconferencing Unit",
                                    "1": "22638.48046875"
                                },
                                {
                                    "0": "Canon imageCLASS 2200 Advanced Copier",
                                    "1": "17499.94921875"
                                },
                                {
                                    "0": "Canon imageCLASS 2200 Advanced Copier",
                                    "1": "13999.9599609375"
                                },
                                {
                                    "0": "Canon imageCLASS 2200 Advanced Copier",
                                    "1": "11199.9677734375"
                                },
                                {
                                    "0": "Canon imageCLASS 2200 Advanced Copier",
                                    "1": "10499.9697265625"
                                },
                                {
                                    "0": "GBC Ibimaster 500 Manual ProClick Binding System",
                                    "1": "9892.740234375"
                                },
                                {
                                    "0": "Ibico EPK-21 Electric Binding System",
                                    "1": "9449.9501953125"
                                },
                                {
                                    "0": "3D Systems Cube Printer, 2nd Generation, Magenta",
                                    "1": "9099.9296875"
                                },
                                {
                                    "0": "HP Designjet T520 Inkjet Large Format Printer - 24\" Color",
                                    "1": "8749.9501953125"
                                },
                                {
                                    "0": "Canon imageCLASS 2200 Advanced Copier",
                                    "1": "8399.9755859375"
                                }
                            ]
                        },
                        "text/html": "<table><tr><th>Product_Name</th><th>Sales</th></tr><tr><td>Cisco TelePresence System EX90 Videoconferencing Unit</td><td>22638.48046875</td></tr><tr><td>Canon imageCLASS 2200 Advanced Copier</td><td>17499.94921875</td></tr><tr><td>Canon imageCLASS 2200 Advanced Copier</td><td>13999.9599609375</td></tr><tr><td>Canon imageCLASS 2200 Advanced Copier</td><td>11199.9677734375</td></tr><tr><td>Canon imageCLASS 2200 Advanced Copier</td><td>10499.9697265625</td></tr><tr><td>GBC Ibimaster 500 Manual ProClick Binding System</td><td>9892.740234375</td></tr><tr><td>Ibico EPK-21 Electric Binding System</td><td>9449.9501953125</td></tr><tr><td>3D Systems Cube Printer, 2nd Generation, Magenta</td><td>9099.9296875</td></tr><tr><td>HP Designjet T520 Inkjet Large Format Printer - 24&quot; Color</td><td>8749.9501953125</td></tr><tr><td>Canon imageCLASS 2200 Advanced Copier</td><td>8399.9755859375</td></tr></table>"
                    },
                    "metadata": {
                        "azdata_chartOptions": {
                            "type": "bar",
                            "dataDirection": "vertical",
                            "columnsAsLabels": true,
                            "labelFirstColumn": false,
                            "legendPosition": "right",
                            "yAxisLabel": "sales, $"
                        }
                    }
                }
            ],
            "execution_count": 5
        },
        {
            "cell_type": "code",
            "source": [
                "SELECT\r\n",
                "DISTINCT TOP 10 Product_Name,\r\n",
                "Sales\r\n",
                "FROM dbo.train\r\n",
                "ORDER BY Sales"
            ],
            "metadata": {
                "language": "sql",
                "azdata_cell_guid": "a8016cb6-e246-4750-a83a-bfe046b7daf8"
            },
            "outputs": [
                {
                    "output_type": "display_data",
                    "data": {
                        "text/html": "(10 rows affected)"
                    },
                    "metadata": {}
                },
                {
                    "output_type": "display_data",
                    "data": {
                        "text/html": "Total execution time: 00:00:00.019"
                    },
                    "metadata": {}
                },
                {
                    "output_type": "execute_result",
                    "execution_count": 5,
                    "data": {
                        "application/vnd.dataresource+json": {
                            "schema": {
                                "fields": [
                                    {
                                        "name": "Product_Name"
                                    },
                                    {
                                        "name": "Sales"
                                    }
                                ]
                            },
                            "data": [
                                {
                                    "0": "Hoover Replacement Belt for Commercial Guardsman Heavy-Duty Upright Vacuum",
                                    "1": "0.4440000057220459"
                                },
                                {
                                    "0": "Acco Suede Grain Vinyl Round Ring Binder",
                                    "1": "0.5559999942779541"
                                },
                                {
                                    "0": "Avery Durable Slant Ring Binders With Label Holder",
                                    "1": "0.8360000252723694"
                                },
                                {
                                    "0": "Avery Round Ring Poly Binders",
                                    "1": "0.8519999980926514"
                                },
                                {
                                    "0": "Acco 3-Hole Punch",
                                    "1": "0.8759999871253967"
                                },
                                {
                                    "0": "Avery Non-Stick Binders",
                                    "1": "0.8980000019073486"
                                },
                                {
                                    "0": "Avery Triangle Shaped Sheet Lifters, Black, 2/Pack",
                                    "1": "0.984000027179718"
                                },
                                {
                                    "0": "Maxell 4.7GB DVD-R 5/Pack",
                                    "1": "0.9900000095367432"
                                },
                                {
                                    "0": "Acco Economy Flexible Poly Round Ring Binder",
                                    "1": "1.0440000295639038"
                                },
                                {
                                    "0": "Wilson Jones Easy Flow II Sheet Lifters",
                                    "1": "1.0800000429153442"
                                }
                            ]
                        },
                        "text/html": "<table><tr><th>Product_Name</th><th>Sales</th></tr><tr><td>Hoover Replacement Belt for Commercial Guardsman Heavy-Duty Upright Vacuum</td><td>0.4440000057220459</td></tr><tr><td>Acco Suede Grain Vinyl Round Ring Binder</td><td>0.5559999942779541</td></tr><tr><td>Avery Durable Slant Ring Binders With Label Holder</td><td>0.8360000252723694</td></tr><tr><td>Avery Round Ring Poly Binders</td><td>0.8519999980926514</td></tr><tr><td>Acco 3-Hole Punch</td><td>0.8759999871253967</td></tr><tr><td>Avery Non-Stick Binders</td><td>0.8980000019073486</td></tr><tr><td>Avery Triangle Shaped Sheet Lifters, Black, 2/Pack</td><td>0.984000027179718</td></tr><tr><td>Maxell 4.7GB DVD-R 5/Pack</td><td>0.9900000095367432</td></tr><tr><td>Acco Economy Flexible Poly Round Ring Binder</td><td>1.0440000295639038</td></tr><tr><td>Wilson Jones Easy Flow II Sheet Lifters</td><td>1.0800000429153442</td></tr></table>"
                    },
                    "metadata": {}
                }
            ],
            "execution_count": 5
        },
        {
            "cell_type": "markdown",
            "source": [
                "So, the most profitable item is _Canon imageCLASS 2200 Advanced Copier_ which brought  $61599,82  in sales. The most expensive product is _Cisco TelePresence System EX90 Videoconferencing Unit_ priced as $22638.48 and the cheapest item  is _Hoover Replacement Belt for Commercial Guardsman Heavy-Duty Upright Vacuum_ at $0.44 ."
            ],
            "metadata": {
                "azdata_cell_guid": "ac6d6619-9540-4557-88d4-3b53ffd2bf6f"
            },
            "attachments": {}
        },
        {
            "cell_type": "markdown",
            "source": [
                "### **Sales trends in each states over the years.**"
            ],
            "metadata": {
                "language": "sql",
                "azdata_cell_guid": "bbc215c8-760f-43f6-9fca-3356d54cc7af"
            },
            "attachments": {}
        },
        {
            "cell_type": "code",
            "source": [
                "SELECT\r\n",
                "State,\r\n",
                "round(sum(Sales), 2) as sales_by_state,\r\n",
                "YEAR(Order_Date) AS year\r\n",
                "FROM dbo.train\r\n",
                "GROUP BY State, YEAR(Order_Date)\r\n",
                "ORDER BY State, year"
            ],
            "metadata": {
                "azdata_cell_guid": "4451c480-b51d-41b8-beec-29bab70bd04e",
                "language": "sql",
                "tags": [
                    "hide_input"
                ]
            },
            "outputs": [
                {
                    "output_type": "display_data",
                    "data": {
                        "text/html": "(181 rows affected)"
                    },
                    "metadata": {}
                },
                {
                    "output_type": "display_data",
                    "data": {
                        "text/html": "Total execution time: 00:00:00.017"
                    },
                    "metadata": {}
                },
                {
                    "output_type": "execute_result",
                    "metadata": {},
                    "execution_count": 7,
                    "data": {
                        "application/vnd.dataresource+json": {
                            "schema": {
                                "fields": [
                                    {
                                        "name": "State"
                                    },
                                    {
                                        "name": "sales_by_state"
                                    },
                                    {
                                        "name": "year"
                                    }
                                ]
                            },
                            "data": [
                                {
                                    "0": "Alabama",
                                    "1": "6139.09",
                                    "2": "2015"
                                },
                                {
                                    "0": "Alabama",
                                    "1": "3891.97",
                                    "2": "2016"
                                },
                                {
                                    "0": "Alabama",
                                    "1": "7651.33",
                                    "2": "2017"
                                },
                                {
                                    "0": "Alabama",
                                    "1": "1828.25",
                                    "2": "2018"
                                },
                                {
                                    "0": "Arizona",
                                    "1": "8295.23",
                                    "2": "2015"
                                },
                                {
                                    "0": "Arizona",
                                    "1": "9611.21",
                                    "2": "2016"
                                },
                                {
                                    "0": "Arizona",
                                    "1": "6242.02",
                                    "2": "2017"
                                },
                                {
                                    "0": "Arizona",
                                    "1": "11124.19",
                                    "2": "2018"
                                },
                                {
                                    "0": "Arkansas",
                                    "1": "6302.69",
                                    "2": "2015"
                                },
                                {
                                    "0": "Arkansas",
                                    "1": "443.61",
                                    "2": "2016"
                                },
                                {
                                    "0": "Arkansas",
                                    "1": "2224.19",
                                    "2": "2017"
                                },
                                {
                                    "0": "Arkansas",
                                    "1": "2707.64",
                                    "2": "2018"
                                },
                                {
                                    "0": "California",
                                    "1": "89475.15",
                                    "2": "2015"
                                },
                                {
                                    "0": "California",
                                    "1": "85621.58",
                                    "2": "2016"
                                },
                                {
                                    "0": "California",
                                    "1": "126542.96",
                                    "2": "2017"
                                },
                                {
                                    "0": "California",
                                    "1": "144666.77",
                                    "2": "2018"
                                },
                                {
                                    "0": "Colorado",
                                    "1": "6502.29",
                                    "2": "2015"
                                },
                                {
                                    "0": "Colorado",
                                    "1": "4639.27",
                                    "2": "2016"
                                },
                                {
                                    "0": "Colorado",
                                    "1": "10666.74",
                                    "2": "2017"
                                },
                                {
                                    "0": "Colorado",
                                    "1": "10033.29",
                                    "2": "2018"
                                },
                                {
                                    "0": "Connecticut",
                                    "1": "2794.02",
                                    "2": "2015"
                                },
                                {
                                    "0": "Connecticut",
                                    "1": "1284.64",
                                    "2": "2016"
                                },
                                {
                                    "0": "Connecticut",
                                    "1": "3998.49",
                                    "2": "2017"
                                },
                                {
                                    "0": "Connecticut",
                                    "1": "5307.21",
                                    "2": "2018"
                                },
                                {
                                    "0": "Delaware",
                                    "1": "4786.03",
                                    "2": "2015"
                                },
                                {
                                    "0": "Delaware",
                                    "1": "6190.34",
                                    "2": "2016"
                                },
                                {
                                    "0": "Delaware",
                                    "1": "2591.65",
                                    "2": "2017"
                                },
                                {
                                    "0": "Delaware",
                                    "1": "13754.98",
                                    "2": "2018"
                                },
                                {
                                    "0": "District of Columbia",
                                    "1": "2670.19",
                                    "2": "2016"
                                },
                                {
                                    "0": "District of Columbia",
                                    "1": "117.07",
                                    "2": "2017"
                                },
                                {
                                    "0": "District of Columbia",
                                    "1": "77.76",
                                    "2": "2018"
                                },
                                {
                                    "0": "Florida",
                                    "1": "34223.01",
                                    "2": "2015"
                                },
                                {
                                    "0": "Florida",
                                    "1": "14239.84",
                                    "2": "2016"
                                },
                                {
                                    "0": "Florida",
                                    "1": "13528.96",
                                    "2": "2017"
                                },
                                {
                                    "0": "Florida",
                                    "1": "26444.72",
                                    "2": "2018"
                                },
                                {
                                    "0": "Georgia",
                                    "1": "4209.77",
                                    "2": "2015"
                                },
                                {
                                    "0": "Georgia",
                                    "1": "11077.74",
                                    "2": "2016"
                                },
                                {
                                    "0": "Georgia",
                                    "1": "14057.67",
                                    "2": "2017"
                                },
                                {
                                    "0": "Georgia",
                                    "1": "18873.93",
                                    "2": "2018"
                                },
                                {
                                    "0": "Idaho",
                                    "1": "465.22",
                                    "2": "2015"
                                },
                                {
                                    "0": "Idaho",
                                    "1": "1500.24",
                                    "2": "2016"
                                },
                                {
                                    "0": "Idaho",
                                    "1": "1183.49",
                                    "2": "2017"
                                },
                                {
                                    "0": "Idaho",
                                    "1": "1233.55",
                                    "2": "2018"
                                },
                                {
                                    "0": "Illinois",
                                    "1": "15776.69",
                                    "2": "2015"
                                },
                                {
                                    "0": "Illinois",
                                    "1": "18578.06",
                                    "2": "2016"
                                },
                                {
                                    "0": "Illinois",
                                    "1": "21033.72",
                                    "2": "2017"
                                },
                                {
                                    "0": "Illinois",
                                    "1": "23848.04",
                                    "2": "2018"
                                },
                                {
                                    "0": "Indiana",
                                    "1": "2930.87",
                                    "2": "2015"
                                },
                                {
                                    "0": "Indiana",
                                    "1": "6640.32",
                                    "2": "2016"
                                },
                                {
                                    "0": "Indiana",
                                    "1": "25461.78",
                                    "2": "2017"
                                },
                                {
                                    "0": "Indiana",
                                    "1": "13685.43",
                                    "2": "2018"
                                },
                                {
                                    "0": "Iowa",
                                    "1": "1190.84",
                                    "2": "2015"
                                },
                                {
                                    "0": "Iowa",
                                    "1": "1713.2",
                                    "2": "2016"
                                },
                                {
                                    "0": "Iowa",
                                    "1": "959.31",
                                    "2": "2017"
                                },
                                {
                                    "0": "Iowa",
                                    "1": "580.21",
                                    "2": "2018"
                                },
                                {
                                    "0": "Kansas",
                                    "1": "1319.79",
                                    "2": "2015"
                                },
                                {
                                    "0": "Kansas",
                                    "1": "170.31",
                                    "2": "2016"
                                },
                                {
                                    "0": "Kansas",
                                    "1": "691.06",
                                    "2": "2017"
                                },
                                {
                                    "0": "Kansas",
                                    "1": "733.15",
                                    "2": "2018"
                                },
                                {
                                    "0": "Kentucky",
                                    "1": "8165.1",
                                    "2": "2015"
                                },
                                {
                                    "0": "Kentucky",
                                    "1": "7673.56",
                                    "2": "2016"
                                },
                                {
                                    "0": "Kentucky",
                                    "1": "5102.89",
                                    "2": "2017"
                                },
                                {
                                    "0": "Kentucky",
                                    "1": "15516.84",
                                    "2": "2018"
                                },
                                {
                                    "0": "Louisiana",
                                    "1": "2534.92",
                                    "2": "2015"
                                },
                                {
                                    "0": "Louisiana",
                                    "1": "831.82",
                                    "2": "2016"
                                },
                                {
                                    "0": "Louisiana",
                                    "1": "262.76",
                                    "2": "2017"
                                },
                                {
                                    "0": "Louisiana",
                                    "1": "5501.55",
                                    "2": "2018"
                                },
                                {
                                    "0": "Maine",
                                    "1": "617.12",
                                    "2": "2015"
                                },
                                {
                                    "0": "Maine",
                                    "1": "106.08",
                                    "2": "2016"
                                },
                                {
                                    "0": "Maine",
                                    "1": "547.33",
                                    "2": "2017"
                                },
                                {
                                    "0": "Maryland",
                                    "1": "1701.25",
                                    "2": "2015"
                                },
                                {
                                    "0": "Maryland",
                                    "1": "7843.11",
                                    "2": "2016"
                                },
                                {
                                    "0": "Maryland",
                                    "1": "4709.56",
                                    "2": "2017"
                                },
                                {
                                    "0": "Maryland",
                                    "1": "9451.6",
                                    "2": "2018"
                                },
                                {
                                    "0": "Massachusetts",
                                    "1": "9900.11",
                                    "2": "2015"
                                },
                                {
                                    "0": "Massachusetts",
                                    "1": "6625.99",
                                    "2": "2016"
                                },
                                {
                                    "0": "Massachusetts",
                                    "1": "3965.26",
                                    "2": "2017"
                                },
                                {
                                    "0": "Massachusetts",
                                    "1": "8143.08",
                                    "2": "2018"
                                },
                                {
                                    "0": "Michigan",
                                    "1": "6172.25",
                                    "2": "2015"
                                },
                                {
                                    "0": "Michigan",
                                    "1": "16843.68",
                                    "2": "2016"
                                },
                                {
                                    "0": "Michigan",
                                    "1": "27286.5",
                                    "2": "2017"
                                },
                                {
                                    "0": "Michigan",
                                    "1": "25833.65",
                                    "2": "2018"
                                },
                                {
                                    "0": "Minnesota",
                                    "1": "15883.33",
                                    "2": "2015"
                                },
                                {
                                    "0": "Minnesota",
                                    "1": "5724.19",
                                    "2": "2016"
                                },
                                {
                                    "0": "Minnesota",
                                    "1": "1527.38",
                                    "2": "2017"
                                },
                                {
                                    "0": "Minnesota",
                                    "1": "6728.25",
                                    "2": "2018"
                                },
                                {
                                    "0": "Mississippi",
                                    "1": "2055.16",
                                    "2": "2015"
                                },
                                {
                                    "0": "Mississippi",
                                    "1": "302.16",
                                    "2": "2016"
                                },
                                {
                                    "0": "Mississippi",
                                    "1": "5416.78",
                                    "2": "2017"
                                },
                                {
                                    "0": "Mississippi",
                                    "1": "2997.24",
                                    "2": "2018"
                                },
                                {
                                    "0": "Missouri",
                                    "1": "1648.03",
                                    "2": "2015"
                                },
                                {
                                    "0": "Missouri",
                                    "1": "6985.21",
                                    "2": "2016"
                                },
                                {
                                    "0": "Missouri",
                                    "1": "4221.11",
                                    "2": "2017"
                                },
                                {
                                    "0": "Missouri",
                                    "1": "9350.8",
                                    "2": "2018"
                                },
                                {
                                    "0": "Montana",
                                    "1": "424.49",
                                    "2": "2015"
                                },
                                {
                                    "0": "Montana",
                                    "1": "935.58",
                                    "2": "2016"
                                },
                                {
                                    "0": "Montana",
                                    "1": "4229.28",
                                    "2": "2018"
                                },
                                {
                                    "0": "Nebraska",
                                    "1": "210.02",
                                    "2": "2015"
                                },
                                {
                                    "0": "Nebraska",
                                    "1": "594.14",
                                    "2": "2016"
                                },
                                {
                                    "0": "Nebraska",
                                    "1": "3081.42",
                                    "2": "2017"
                                },
                                {
                                    "0": "Nebraska",
                                    "1": "3579.35",
                                    "2": "2018"
                                },
                                {
                                    "0": "Nevada",
                                    "1": "2561.21",
                                    "2": "2015"
                                },
                                {
                                    "0": "Nevada",
                                    "1": "1948.46",
                                    "2": "2016"
                                },
                                {
                                    "0": "Nevada",
                                    "1": "9081.27",
                                    "2": "2017"
                                },
                                {
                                    "0": "Nevada",
                                    "1": "3138.16",
                                    "2": "2018"
                                },
                                {
                                    "0": "New Hampshire",
                                    "1": "504.48",
                                    "2": "2015"
                                },
                                {
                                    "0": "New Hampshire",
                                    "1": "4345.03",
                                    "2": "2016"
                                },
                                {
                                    "0": "New Hampshire",
                                    "1": "933.58",
                                    "2": "2017"
                                },
                                {
                                    "0": "New Hampshire",
                                    "1": "1509.43",
                                    "2": "2018"
                                },
                                {
                                    "0": "New Jersey",
                                    "1": "4192.28",
                                    "2": "2015"
                                },
                                {
                                    "0": "New Jersey",
                                    "1": "4105.09",
                                    "2": "2016"
                                },
                                {
                                    "0": "New Jersey",
                                    "1": "17637.92",
                                    "2": "2017"
                                },
                                {
                                    "0": "New Jersey",
                                    "1": "8675.68",
                                    "2": "2018"
                                },
                                {
                                    "0": "New Mexico",
                                    "1": "708.01",
                                    "2": "2015"
                                },
                                {
                                    "0": "New Mexico",
                                    "1": "1192.87",
                                    "2": "2016"
                                },
                                {
                                    "0": "New Mexico",
                                    "1": "64.08",
                                    "2": "2017"
                                },
                                {
                                    "0": "New Mexico",
                                    "1": "2818.56",
                                    "2": "2018"
                                },
                                {
                                    "0": "New York",
                                    "1": "64346.07",
                                    "2": "2015"
                                },
                                {
                                    "0": "New York",
                                    "1": "77416.35",
                                    "2": "2016"
                                },
                                {
                                    "0": "New York",
                                    "1": "70826.56",
                                    "2": "2017"
                                },
                                {
                                    "0": "New York",
                                    "1": "93772.17",
                                    "2": "2018"
                                },
                                {
                                    "0": "North Carolina",
                                    "1": "8620.74",
                                    "2": "2015"
                                },
                                {
                                    "0": "North Carolina",
                                    "1": "8558.3",
                                    "2": "2016"
                                },
                                {
                                    "0": "North Carolina",
                                    "1": "14967.3",
                                    "2": "2017"
                                },
                                {
                                    "0": "North Carolina",
                                    "1": "23019.63",
                                    "2": "2018"
                                },
                                {
                                    "0": "North Dakota",
                                    "1": "919.91",
                                    "2": "2018"
                                },
                                {
                                    "0": "Ohio",
                                    "1": "13704.26",
                                    "2": "2015"
                                },
                                {
                                    "0": "Ohio",
                                    "1": "15918.25",
                                    "2": "2016"
                                },
                                {
                                    "0": "Ohio",
                                    "1": "24135.08",
                                    "2": "2017"
                                },
                                {
                                    "0": "Ohio",
                                    "1": "21372.76",
                                    "2": "2018"
                                },
                                {
                                    "0": "Oklahoma",
                                    "1": "2639.35",
                                    "2": "2015"
                                },
                                {
                                    "0": "Oklahoma",
                                    "1": "2808.34",
                                    "2": "2016"
                                },
                                {
                                    "0": "Oklahoma",
                                    "1": "8009.79",
                                    "2": "2017"
                                },
                                {
                                    "0": "Oklahoma",
                                    "1": "6225.91",
                                    "2": "2018"
                                },
                                {
                                    "0": "Oregon",
                                    "1": "4661.1",
                                    "2": "2015"
                                },
                                {
                                    "0": "Oregon",
                                    "1": "4285.94",
                                    "2": "2016"
                                },
                                {
                                    "0": "Oregon",
                                    "1": "5450.84",
                                    "2": "2017"
                                },
                                {
                                    "0": "Oregon",
                                    "1": "2886.59",
                                    "2": "2018"
                                },
                                {
                                    "0": "Pennsylvania",
                                    "1": "20091.52",
                                    "2": "2015"
                                },
                                {
                                    "0": "Pennsylvania",
                                    "1": "20500.45",
                                    "2": "2016"
                                },
                                {
                                    "0": "Pennsylvania",
                                    "1": "32996.37",
                                    "2": "2017"
                                },
                                {
                                    "0": "Pennsylvania",
                                    "1": "42688.31",
                                    "2": "2018"
                                },
                                {
                                    "0": "Rhode Island",
                                    "1": "5015.69",
                                    "2": "2015"
                                },
                                {
                                    "0": "Rhode Island",
                                    "1": "1099.56",
                                    "2": "2016"
                                },
                                {
                                    "0": "Rhode Island",
                                    "1": "13085.6",
                                    "2": "2017"
                                },
                                {
                                    "0": "Rhode Island",
                                    "1": "3324.18",
                                    "2": "2018"
                                },
                                {
                                    "0": "South Carolina",
                                    "1": "2270.86",
                                    "2": "2015"
                                },
                                {
                                    "0": "South Carolina",
                                    "1": "4147.62",
                                    "2": "2016"
                                },
                                {
                                    "0": "South Carolina",
                                    "1": "502.48",
                                    "2": "2017"
                                },
                                {
                                    "0": "South Carolina",
                                    "1": "1560.75",
                                    "2": "2018"
                                },
                                {
                                    "0": "South Dakota",
                                    "1": "162.15",
                                    "2": "2015"
                                },
                                {
                                    "0": "South Dakota",
                                    "1": "1153.41",
                                    "2": "2018"
                                },
                                {
                                    "0": "Tennessee",
                                    "1": "3051.51",
                                    "2": "2015"
                                },
                                {
                                    "0": "Tennessee",
                                    "1": "8366.04",
                                    "2": "2016"
                                },
                                {
                                    "0": "Tennessee",
                                    "1": "3130.49",
                                    "2": "2017"
                                },
                                {
                                    "0": "Tennessee",
                                    "1": "16113.82",
                                    "2": "2018"
                                },
                                {
                                    "0": "Texas",
                                    "1": "50139.49",
                                    "2": "2015"
                                },
                                {
                                    "0": "Texas",
                                    "1": "34005.91",
                                    "2": "2016"
                                },
                                {
                                    "0": "Texas",
                                    "1": "41005.38",
                                    "2": "2017"
                                },
                                {
                                    "0": "Texas",
                                    "1": "43421.76",
                                    "2": "2018"
                                },
                                {
                                    "0": "Utah",
                                    "1": "2943.69",
                                    "2": "2015"
                                },
                                {
                                    "0": "Utah",
                                    "1": "3993.32",
                                    "2": "2016"
                                },
                                {
                                    "0": "Utah",
                                    "1": "1822.41",
                                    "2": "2017"
                                },
                                {
                                    "0": "Utah",
                                    "1": "2460.64",
                                    "2": "2018"
                                },
                                {
                                    "0": "Vermont",
                                    "1": "5120.1",
                                    "2": "2016"
                                },
                                {
                                    "0": "Vermont",
                                    "1": "2967.06",
                                    "2": "2017"
                                },
                                {
                                    "0": "Vermont",
                                    "1": "842.21",
                                    "2": "2018"
                                },
                                {
                                    "0": "Virginia",
                                    "1": "25802.05",
                                    "2": "2015"
                                },
                                {
                                    "0": "Virginia",
                                    "1": "10543.42",
                                    "2": "2016"
                                },
                                {
                                    "0": "Virginia",
                                    "1": "26691.05",
                                    "2": "2017"
                                },
                                {
                                    "0": "Virginia",
                                    "1": "7600.2",
                                    "2": "2018"
                                },
                                {
                                    "0": "Washington",
                                    "1": "29871.58",
                                    "2": "2015"
                                },
                                {
                                    "0": "Washington",
                                    "1": "19981.09",
                                    "2": "2016"
                                },
                                {
                                    "0": "Washington",
                                    "1": "19814.28",
                                    "2": "2017"
                                },
                                {
                                    "0": "Washington",
                                    "1": "65539.9",
                                    "2": "2018"
                                },
                                {
                                    "0": "West Virginia",
                                    "1": "1209.82",
                                    "2": "2018"
                                },
                                {
                                    "0": "Wisconsin",
                                    "1": "4847.71",
                                    "2": "2015"
                                },
                                {
                                    "0": "Wisconsin",
                                    "1": "8361.81",
                                    "2": "2016"
                                },
                                {
                                    "0": "Wisconsin",
                                    "1": "12396.44",
                                    "2": "2017"
                                },
                                {
                                    "0": "Wisconsin",
                                    "1": "5567.47",
                                    "2": "2018"
                                },
                                {
                                    "0": "Wyoming",
                                    "1": "1603.14",
                                    "2": "2017"
                                }
                            ]
                        },
                        "text/html": [
                            "<table>",
                            "<tr><th>State</th><th>sales_by_state</th><th>year</th></tr>",
                            "<tr><td>Alabama</td><td>6139.09</td><td>2015</td></tr>",
                            "<tr><td>Alabama</td><td>3891.97</td><td>2016</td></tr>",
                            "<tr><td>Alabama</td><td>7651.33</td><td>2017</td></tr>",
                            "<tr><td>Alabama</td><td>1828.25</td><td>2018</td></tr>",
                            "<tr><td>Arizona</td><td>8295.23</td><td>2015</td></tr>",
                            "<tr><td>Arizona</td><td>9611.21</td><td>2016</td></tr>",
                            "<tr><td>Arizona</td><td>6242.02</td><td>2017</td></tr>",
                            "<tr><td>Arizona</td><td>11124.19</td><td>2018</td></tr>",
                            "<tr><td>Arkansas</td><td>6302.69</td><td>2015</td></tr>",
                            "<tr><td>Arkansas</td><td>443.61</td><td>2016</td></tr>",
                            "<tr><td>Arkansas</td><td>2224.19</td><td>2017</td></tr>",
                            "<tr><td>Arkansas</td><td>2707.64</td><td>2018</td></tr>",
                            "<tr><td>California</td><td>89475.15</td><td>2015</td></tr>",
                            "<tr><td>California</td><td>85621.58</td><td>2016</td></tr>",
                            "<tr><td>California</td><td>126542.96</td><td>2017</td></tr>",
                            "<tr><td>California</td><td>144666.77</td><td>2018</td></tr>",
                            "<tr><td>Colorado</td><td>6502.29</td><td>2015</td></tr>",
                            "<tr><td>Colorado</td><td>4639.27</td><td>2016</td></tr>",
                            "<tr><td>Colorado</td><td>10666.74</td><td>2017</td></tr>",
                            "<tr><td>Colorado</td><td>10033.29</td><td>2018</td></tr>",
                            "<tr><td>Connecticut</td><td>2794.02</td><td>2015</td></tr>",
                            "<tr><td>Connecticut</td><td>1284.64</td><td>2016</td></tr>",
                            "<tr><td>Connecticut</td><td>3998.49</td><td>2017</td></tr>",
                            "<tr><td>Connecticut</td><td>5307.21</td><td>2018</td></tr>",
                            "<tr><td>Delaware</td><td>4786.03</td><td>2015</td></tr>",
                            "<tr><td>Delaware</td><td>6190.34</td><td>2016</td></tr>",
                            "<tr><td>Delaware</td><td>2591.65</td><td>2017</td></tr>",
                            "<tr><td>Delaware</td><td>13754.98</td><td>2018</td></tr>",
                            "<tr><td>District of Columbia</td><td>2670.19</td><td>2016</td></tr>",
                            "<tr><td>District of Columbia</td><td>117.07</td><td>2017</td></tr>",
                            "<tr><td>District of Columbia</td><td>77.76</td><td>2018</td></tr>",
                            "<tr><td>Florida</td><td>34223.01</td><td>2015</td></tr>",
                            "<tr><td>Florida</td><td>14239.84</td><td>2016</td></tr>",
                            "<tr><td>Florida</td><td>13528.96</td><td>2017</td></tr>",
                            "<tr><td>Florida</td><td>26444.72</td><td>2018</td></tr>",
                            "<tr><td>Georgia</td><td>4209.77</td><td>2015</td></tr>",
                            "<tr><td>Georgia</td><td>11077.74</td><td>2016</td></tr>",
                            "<tr><td>Georgia</td><td>14057.67</td><td>2017</td></tr>",
                            "<tr><td>Georgia</td><td>18873.93</td><td>2018</td></tr>",
                            "<tr><td>Idaho</td><td>465.22</td><td>2015</td></tr>",
                            "<tr><td>Idaho</td><td>1500.24</td><td>2016</td></tr>",
                            "<tr><td>Idaho</td><td>1183.49</td><td>2017</td></tr>",
                            "<tr><td>Idaho</td><td>1233.55</td><td>2018</td></tr>",
                            "<tr><td>Illinois</td><td>15776.69</td><td>2015</td></tr>",
                            "<tr><td>Illinois</td><td>18578.06</td><td>2016</td></tr>",
                            "<tr><td>Illinois</td><td>21033.72</td><td>2017</td></tr>",
                            "<tr><td>Illinois</td><td>23848.04</td><td>2018</td></tr>",
                            "<tr><td>Indiana</td><td>2930.87</td><td>2015</td></tr>",
                            "<tr><td>Indiana</td><td>6640.32</td><td>2016</td></tr>",
                            "<tr><td>Indiana</td><td>25461.78</td><td>2017</td></tr>",
                            "<tr><td>Indiana</td><td>13685.43</td><td>2018</td></tr>",
                            "<tr><td>Iowa</td><td>1190.84</td><td>2015</td></tr>",
                            "<tr><td>Iowa</td><td>1713.2</td><td>2016</td></tr>",
                            "<tr><td>Iowa</td><td>959.31</td><td>2017</td></tr>",
                            "<tr><td>Iowa</td><td>580.21</td><td>2018</td></tr>",
                            "<tr><td>Kansas</td><td>1319.79</td><td>2015</td></tr>",
                            "<tr><td>Kansas</td><td>170.31</td><td>2016</td></tr>",
                            "<tr><td>Kansas</td><td>691.06</td><td>2017</td></tr>",
                            "<tr><td>Kansas</td><td>733.15</td><td>2018</td></tr>",
                            "<tr><td>Kentucky</td><td>8165.1</td><td>2015</td></tr>",
                            "<tr><td>Kentucky</td><td>7673.56</td><td>2016</td></tr>",
                            "<tr><td>Kentucky</td><td>5102.89</td><td>2017</td></tr>",
                            "<tr><td>Kentucky</td><td>15516.84</td><td>2018</td></tr>",
                            "<tr><td>Louisiana</td><td>2534.92</td><td>2015</td></tr>",
                            "<tr><td>Louisiana</td><td>831.82</td><td>2016</td></tr>",
                            "<tr><td>Louisiana</td><td>262.76</td><td>2017</td></tr>",
                            "<tr><td>Louisiana</td><td>5501.55</td><td>2018</td></tr>",
                            "<tr><td>Maine</td><td>617.12</td><td>2015</td></tr>",
                            "<tr><td>Maine</td><td>106.08</td><td>2016</td></tr>",
                            "<tr><td>Maine</td><td>547.33</td><td>2017</td></tr>",
                            "<tr><td>Maryland</td><td>1701.25</td><td>2015</td></tr>",
                            "<tr><td>Maryland</td><td>7843.11</td><td>2016</td></tr>",
                            "<tr><td>Maryland</td><td>4709.56</td><td>2017</td></tr>",
                            "<tr><td>Maryland</td><td>9451.6</td><td>2018</td></tr>",
                            "<tr><td>Massachusetts</td><td>9900.11</td><td>2015</td></tr>",
                            "<tr><td>Massachusetts</td><td>6625.99</td><td>2016</td></tr>",
                            "<tr><td>Massachusetts</td><td>3965.26</td><td>2017</td></tr>",
                            "<tr><td>Massachusetts</td><td>8143.08</td><td>2018</td></tr>",
                            "<tr><td>Michigan</td><td>6172.25</td><td>2015</td></tr>",
                            "<tr><td>Michigan</td><td>16843.68</td><td>2016</td></tr>",
                            "<tr><td>Michigan</td><td>27286.5</td><td>2017</td></tr>",
                            "<tr><td>Michigan</td><td>25833.65</td><td>2018</td></tr>",
                            "<tr><td>Minnesota</td><td>15883.33</td><td>2015</td></tr>",
                            "<tr><td>Minnesota</td><td>5724.19</td><td>2016</td></tr>",
                            "<tr><td>Minnesota</td><td>1527.38</td><td>2017</td></tr>",
                            "<tr><td>Minnesota</td><td>6728.25</td><td>2018</td></tr>",
                            "<tr><td>Mississippi</td><td>2055.16</td><td>2015</td></tr>",
                            "<tr><td>Mississippi</td><td>302.16</td><td>2016</td></tr>",
                            "<tr><td>Mississippi</td><td>5416.78</td><td>2017</td></tr>",
                            "<tr><td>Mississippi</td><td>2997.24</td><td>2018</td></tr>",
                            "<tr><td>Missouri</td><td>1648.03</td><td>2015</td></tr>",
                            "<tr><td>Missouri</td><td>6985.21</td><td>2016</td></tr>",
                            "<tr><td>Missouri</td><td>4221.11</td><td>2017</td></tr>",
                            "<tr><td>Missouri</td><td>9350.8</td><td>2018</td></tr>",
                            "<tr><td>Montana</td><td>424.49</td><td>2015</td></tr>",
                            "<tr><td>Montana</td><td>935.58</td><td>2016</td></tr>",
                            "<tr><td>Montana</td><td>4229.28</td><td>2018</td></tr>",
                            "<tr><td>Nebraska</td><td>210.02</td><td>2015</td></tr>",
                            "<tr><td>Nebraska</td><td>594.14</td><td>2016</td></tr>",
                            "<tr><td>Nebraska</td><td>3081.42</td><td>2017</td></tr>",
                            "<tr><td>Nebraska</td><td>3579.35</td><td>2018</td></tr>",
                            "<tr><td>Nevada</td><td>2561.21</td><td>2015</td></tr>",
                            "<tr><td>Nevada</td><td>1948.46</td><td>2016</td></tr>",
                            "<tr><td>Nevada</td><td>9081.27</td><td>2017</td></tr>",
                            "<tr><td>Nevada</td><td>3138.16</td><td>2018</td></tr>",
                            "<tr><td>New Hampshire</td><td>504.48</td><td>2015</td></tr>",
                            "<tr><td>New Hampshire</td><td>4345.03</td><td>2016</td></tr>",
                            "<tr><td>New Hampshire</td><td>933.58</td><td>2017</td></tr>",
                            "<tr><td>New Hampshire</td><td>1509.43</td><td>2018</td></tr>",
                            "<tr><td>New Jersey</td><td>4192.28</td><td>2015</td></tr>",
                            "<tr><td>New Jersey</td><td>4105.09</td><td>2016</td></tr>",
                            "<tr><td>New Jersey</td><td>17637.92</td><td>2017</td></tr>",
                            "<tr><td>New Jersey</td><td>8675.68</td><td>2018</td></tr>",
                            "<tr><td>New Mexico</td><td>708.01</td><td>2015</td></tr>",
                            "<tr><td>New Mexico</td><td>1192.87</td><td>2016</td></tr>",
                            "<tr><td>New Mexico</td><td>64.08</td><td>2017</td></tr>",
                            "<tr><td>New Mexico</td><td>2818.56</td><td>2018</td></tr>",
                            "<tr><td>New York</td><td>64346.07</td><td>2015</td></tr>",
                            "<tr><td>New York</td><td>77416.35</td><td>2016</td></tr>",
                            "<tr><td>New York</td><td>70826.56</td><td>2017</td></tr>",
                            "<tr><td>New York</td><td>93772.17</td><td>2018</td></tr>",
                            "<tr><td>North Carolina</td><td>8620.74</td><td>2015</td></tr>",
                            "<tr><td>North Carolina</td><td>8558.3</td><td>2016</td></tr>",
                            "<tr><td>North Carolina</td><td>14967.3</td><td>2017</td></tr>",
                            "<tr><td>North Carolina</td><td>23019.63</td><td>2018</td></tr>",
                            "<tr><td>North Dakota</td><td>919.91</td><td>2018</td></tr>",
                            "<tr><td>Ohio</td><td>13704.26</td><td>2015</td></tr>",
                            "<tr><td>Ohio</td><td>15918.25</td><td>2016</td></tr>",
                            "<tr><td>Ohio</td><td>24135.08</td><td>2017</td></tr>",
                            "<tr><td>Ohio</td><td>21372.76</td><td>2018</td></tr>",
                            "<tr><td>Oklahoma</td><td>2639.35</td><td>2015</td></tr>",
                            "<tr><td>Oklahoma</td><td>2808.34</td><td>2016</td></tr>",
                            "<tr><td>Oklahoma</td><td>8009.79</td><td>2017</td></tr>",
                            "<tr><td>Oklahoma</td><td>6225.91</td><td>2018</td></tr>",
                            "<tr><td>Oregon</td><td>4661.1</td><td>2015</td></tr>",
                            "<tr><td>Oregon</td><td>4285.94</td><td>2016</td></tr>",
                            "<tr><td>Oregon</td><td>5450.84</td><td>2017</td></tr>",
                            "<tr><td>Oregon</td><td>2886.59</td><td>2018</td></tr>",
                            "<tr><td>Pennsylvania</td><td>20091.52</td><td>2015</td></tr>",
                            "<tr><td>Pennsylvania</td><td>20500.45</td><td>2016</td></tr>",
                            "<tr><td>Pennsylvania</td><td>32996.37</td><td>2017</td></tr>",
                            "<tr><td>Pennsylvania</td><td>42688.31</td><td>2018</td></tr>",
                            "<tr><td>Rhode Island</td><td>5015.69</td><td>2015</td></tr>",
                            "<tr><td>Rhode Island</td><td>1099.56</td><td>2016</td></tr>",
                            "<tr><td>Rhode Island</td><td>13085.6</td><td>2017</td></tr>",
                            "<tr><td>Rhode Island</td><td>3324.18</td><td>2018</td></tr>",
                            "<tr><td>South Carolina</td><td>2270.86</td><td>2015</td></tr>",
                            "<tr><td>South Carolina</td><td>4147.62</td><td>2016</td></tr>",
                            "<tr><td>South Carolina</td><td>502.48</td><td>2017</td></tr>",
                            "<tr><td>South Carolina</td><td>1560.75</td><td>2018</td></tr>",
                            "<tr><td>South Dakota</td><td>162.15</td><td>2015</td></tr>",
                            "<tr><td>South Dakota</td><td>1153.41</td><td>2018</td></tr>",
                            "<tr><td>Tennessee</td><td>3051.51</td><td>2015</td></tr>",
                            "<tr><td>Tennessee</td><td>8366.04</td><td>2016</td></tr>",
                            "<tr><td>Tennessee</td><td>3130.49</td><td>2017</td></tr>",
                            "<tr><td>Tennessee</td><td>16113.82</td><td>2018</td></tr>",
                            "<tr><td>Texas</td><td>50139.49</td><td>2015</td></tr>",
                            "<tr><td>Texas</td><td>34005.91</td><td>2016</td></tr>",
                            "<tr><td>Texas</td><td>41005.38</td><td>2017</td></tr>",
                            "<tr><td>Texas</td><td>43421.76</td><td>2018</td></tr>",
                            "<tr><td>Utah</td><td>2943.69</td><td>2015</td></tr>",
                            "<tr><td>Utah</td><td>3993.32</td><td>2016</td></tr>",
                            "<tr><td>Utah</td><td>1822.41</td><td>2017</td></tr>",
                            "<tr><td>Utah</td><td>2460.64</td><td>2018</td></tr>",
                            "<tr><td>Vermont</td><td>5120.1</td><td>2016</td></tr>",
                            "<tr><td>Vermont</td><td>2967.06</td><td>2017</td></tr>",
                            "<tr><td>Vermont</td><td>842.21</td><td>2018</td></tr>",
                            "<tr><td>Virginia</td><td>25802.05</td><td>2015</td></tr>",
                            "<tr><td>Virginia</td><td>10543.42</td><td>2016</td></tr>",
                            "<tr><td>Virginia</td><td>26691.05</td><td>2017</td></tr>",
                            "<tr><td>Virginia</td><td>7600.2</td><td>2018</td></tr>",
                            "<tr><td>Washington</td><td>29871.58</td><td>2015</td></tr>",
                            "<tr><td>Washington</td><td>19981.09</td><td>2016</td></tr>",
                            "<tr><td>Washington</td><td>19814.28</td><td>2017</td></tr>",
                            "<tr><td>Washington</td><td>65539.9</td><td>2018</td></tr>",
                            "<tr><td>West Virginia</td><td>1209.82</td><td>2018</td></tr>",
                            "<tr><td>Wisconsin</td><td>4847.71</td><td>2015</td></tr>",
                            "<tr><td>Wisconsin</td><td>8361.81</td><td>2016</td></tr>",
                            "<tr><td>Wisconsin</td><td>12396.44</td><td>2017</td></tr>",
                            "<tr><td>Wisconsin</td><td>5567.47</td><td>2018</td></tr>",
                            "<tr><td>Wyoming</td><td>1603.14</td><td>2017</td></tr>",
                            "</table>"
                        ]
                    }
                }
            ],
            "execution_count": 7
        },
        {
            "cell_type": "markdown",
            "source": [
                "### **Thanks for visiting my notebook!**"
            ],
            "metadata": {
                "azdata_cell_guid": "21731fd4-b9aa-4e09-ab66-9aa1fb9d6d97"
            },
            "attachments": {}
        }
    ]
}